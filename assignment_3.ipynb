{
  "nbformat": 4,
  "nbformat_minor": 0,
  "metadata": {
    "colab": {
      "provenance": [],
      "mount_file_id": "1BFiFX7dP6DWO8nnC-vFHkXSAdoTYjOEp",
      "authorship_tag": "ABX9TyO4xQ0xLhrXEA+NKoNTdJXl",
      "include_colab_link": true
    },
    "kernelspec": {
      "name": "python3",
      "display_name": "Python 3"
    },
    "language_info": {
      "name": "python"
    }
  },
  "cells": [
    {
      "cell_type": "markdown",
      "metadata": {
        "id": "view-in-github",
        "colab_type": "text"
      },
      "source": [
        "<a href=\"https://colab.research.google.com/github/Sai-sakunthala/Assignment-3/blob/main/assignment_3.ipynb\" target=\"_parent\"><img src=\"https://colab.research.google.com/assets/colab-badge.svg\" alt=\"Open In Colab\"/></a>"
      ]
    },
    {
      "cell_type": "code",
      "execution_count": 1,
      "metadata": {
        "colab": {
          "base_uri": "https://localhost:8080/"
        },
        "id": "90DRuq65CICK",
        "outputId": "a6f09fa4-ba78-4130-ab33-792475ad830a"
      },
      "outputs": [
        {
          "output_type": "stream",
          "name": "stdout",
          "text": [
            "Requirement already satisfied: torch in /usr/local/lib/python3.11/dist-packages (2.6.0+cu124)\n",
            "Requirement already satisfied: wandb in /usr/local/lib/python3.11/dist-packages (0.19.11)\n",
            "Requirement already satisfied: pandas in /usr/local/lib/python3.11/dist-packages (2.2.2)\n",
            "Requirement already satisfied: tqdm in /usr/local/lib/python3.11/dist-packages (4.67.1)\n",
            "Requirement already satisfied: filelock in /usr/local/lib/python3.11/dist-packages (from torch) (3.18.0)\n",
            "Requirement already satisfied: typing-extensions>=4.10.0 in /usr/local/lib/python3.11/dist-packages (from torch) (4.13.2)\n",
            "Requirement already satisfied: networkx in /usr/local/lib/python3.11/dist-packages (from torch) (3.4.2)\n",
            "Requirement already satisfied: jinja2 in /usr/local/lib/python3.11/dist-packages (from torch) (3.1.6)\n",
            "Requirement already satisfied: fsspec in /usr/local/lib/python3.11/dist-packages (from torch) (2025.3.2)\n",
            "Collecting nvidia-cuda-nvrtc-cu12==12.4.127 (from torch)\n",
            "  Downloading nvidia_cuda_nvrtc_cu12-12.4.127-py3-none-manylinux2014_x86_64.whl.metadata (1.5 kB)\n",
            "Collecting nvidia-cuda-runtime-cu12==12.4.127 (from torch)\n",
            "  Downloading nvidia_cuda_runtime_cu12-12.4.127-py3-none-manylinux2014_x86_64.whl.metadata (1.5 kB)\n",
            "Collecting nvidia-cuda-cupti-cu12==12.4.127 (from torch)\n",
            "  Downloading nvidia_cuda_cupti_cu12-12.4.127-py3-none-manylinux2014_x86_64.whl.metadata (1.6 kB)\n",
            "Collecting nvidia-cudnn-cu12==9.1.0.70 (from torch)\n",
            "  Downloading nvidia_cudnn_cu12-9.1.0.70-py3-none-manylinux2014_x86_64.whl.metadata (1.6 kB)\n",
            "Collecting nvidia-cublas-cu12==12.4.5.8 (from torch)\n",
            "  Downloading nvidia_cublas_cu12-12.4.5.8-py3-none-manylinux2014_x86_64.whl.metadata (1.5 kB)\n",
            "Collecting nvidia-cufft-cu12==11.2.1.3 (from torch)\n",
            "  Downloading nvidia_cufft_cu12-11.2.1.3-py3-none-manylinux2014_x86_64.whl.metadata (1.5 kB)\n",
            "Collecting nvidia-curand-cu12==10.3.5.147 (from torch)\n",
            "  Downloading nvidia_curand_cu12-10.3.5.147-py3-none-manylinux2014_x86_64.whl.metadata (1.5 kB)\n",
            "Collecting nvidia-cusolver-cu12==11.6.1.9 (from torch)\n",
            "  Downloading nvidia_cusolver_cu12-11.6.1.9-py3-none-manylinux2014_x86_64.whl.metadata (1.6 kB)\n",
            "Collecting nvidia-cusparse-cu12==12.3.1.170 (from torch)\n",
            "  Downloading nvidia_cusparse_cu12-12.3.1.170-py3-none-manylinux2014_x86_64.whl.metadata (1.6 kB)\n",
            "Requirement already satisfied: nvidia-cusparselt-cu12==0.6.2 in /usr/local/lib/python3.11/dist-packages (from torch) (0.6.2)\n",
            "Requirement already satisfied: nvidia-nccl-cu12==2.21.5 in /usr/local/lib/python3.11/dist-packages (from torch) (2.21.5)\n",
            "Requirement already satisfied: nvidia-nvtx-cu12==12.4.127 in /usr/local/lib/python3.11/dist-packages (from torch) (12.4.127)\n",
            "Collecting nvidia-nvjitlink-cu12==12.4.127 (from torch)\n",
            "  Downloading nvidia_nvjitlink_cu12-12.4.127-py3-none-manylinux2014_x86_64.whl.metadata (1.5 kB)\n",
            "Requirement already satisfied: triton==3.2.0 in /usr/local/lib/python3.11/dist-packages (from torch) (3.2.0)\n",
            "Requirement already satisfied: sympy==1.13.1 in /usr/local/lib/python3.11/dist-packages (from torch) (1.13.1)\n",
            "Requirement already satisfied: mpmath<1.4,>=1.1.0 in /usr/local/lib/python3.11/dist-packages (from sympy==1.13.1->torch) (1.3.0)\n",
            "Requirement already satisfied: click!=8.0.0,>=7.1 in /usr/local/lib/python3.11/dist-packages (from wandb) (8.2.0)\n",
            "Requirement already satisfied: docker-pycreds>=0.4.0 in /usr/local/lib/python3.11/dist-packages (from wandb) (0.4.0)\n",
            "Requirement already satisfied: gitpython!=3.1.29,>=1.0.0 in /usr/local/lib/python3.11/dist-packages (from wandb) (3.1.44)\n",
            "Requirement already satisfied: platformdirs in /usr/local/lib/python3.11/dist-packages (from wandb) (4.3.8)\n",
            "Requirement already satisfied: protobuf!=4.21.0,!=5.28.0,<7,>=3.19.0 in /usr/local/lib/python3.11/dist-packages (from wandb) (5.29.4)\n",
            "Requirement already satisfied: psutil>=5.0.0 in /usr/local/lib/python3.11/dist-packages (from wandb) (5.9.5)\n",
            "Requirement already satisfied: pydantic<3 in /usr/local/lib/python3.11/dist-packages (from wandb) (2.11.4)\n",
            "Requirement already satisfied: pyyaml in /usr/local/lib/python3.11/dist-packages (from wandb) (6.0.2)\n",
            "Requirement already satisfied: requests<3,>=2.0.0 in /usr/local/lib/python3.11/dist-packages (from wandb) (2.32.3)\n",
            "Requirement already satisfied: sentry-sdk>=2.0.0 in /usr/local/lib/python3.11/dist-packages (from wandb) (2.28.0)\n",
            "Requirement already satisfied: setproctitle in /usr/local/lib/python3.11/dist-packages (from wandb) (1.3.6)\n",
            "Requirement already satisfied: setuptools in /usr/local/lib/python3.11/dist-packages (from wandb) (75.2.0)\n",
            "Requirement already satisfied: numpy>=1.23.2 in /usr/local/lib/python3.11/dist-packages (from pandas) (2.0.2)\n",
            "Requirement already satisfied: python-dateutil>=2.8.2 in /usr/local/lib/python3.11/dist-packages (from pandas) (2.9.0.post0)\n",
            "Requirement already satisfied: pytz>=2020.1 in /usr/local/lib/python3.11/dist-packages (from pandas) (2025.2)\n",
            "Requirement already satisfied: tzdata>=2022.7 in /usr/local/lib/python3.11/dist-packages (from pandas) (2025.2)\n",
            "Requirement already satisfied: six>=1.4.0 in /usr/local/lib/python3.11/dist-packages (from docker-pycreds>=0.4.0->wandb) (1.17.0)\n",
            "Requirement already satisfied: gitdb<5,>=4.0.1 in /usr/local/lib/python3.11/dist-packages (from gitpython!=3.1.29,>=1.0.0->wandb) (4.0.12)\n",
            "Requirement already satisfied: annotated-types>=0.6.0 in /usr/local/lib/python3.11/dist-packages (from pydantic<3->wandb) (0.7.0)\n",
            "Requirement already satisfied: pydantic-core==2.33.2 in /usr/local/lib/python3.11/dist-packages (from pydantic<3->wandb) (2.33.2)\n",
            "Requirement already satisfied: typing-inspection>=0.4.0 in /usr/local/lib/python3.11/dist-packages (from pydantic<3->wandb) (0.4.0)\n",
            "Requirement already satisfied: charset-normalizer<4,>=2 in /usr/local/lib/python3.11/dist-packages (from requests<3,>=2.0.0->wandb) (3.4.2)\n",
            "Requirement already satisfied: idna<4,>=2.5 in /usr/local/lib/python3.11/dist-packages (from requests<3,>=2.0.0->wandb) (3.10)\n",
            "Requirement already satisfied: urllib3<3,>=1.21.1 in /usr/local/lib/python3.11/dist-packages (from requests<3,>=2.0.0->wandb) (2.4.0)\n",
            "Requirement already satisfied: certifi>=2017.4.17 in /usr/local/lib/python3.11/dist-packages (from requests<3,>=2.0.0->wandb) (2025.4.26)\n",
            "Requirement already satisfied: MarkupSafe>=2.0 in /usr/local/lib/python3.11/dist-packages (from jinja2->torch) (3.0.2)\n",
            "Requirement already satisfied: smmap<6,>=3.0.1 in /usr/local/lib/python3.11/dist-packages (from gitdb<5,>=4.0.1->gitpython!=3.1.29,>=1.0.0->wandb) (5.0.2)\n",
            "Downloading nvidia_cublas_cu12-12.4.5.8-py3-none-manylinux2014_x86_64.whl (363.4 MB)\n",
            "\u001b[2K   \u001b[90m━━━━━━━━━━━━━━━━━━━━━━━━━━━━━━━━━━━━━━━━\u001b[0m \u001b[32m363.4/363.4 MB\u001b[0m \u001b[31m3.6 MB/s\u001b[0m eta \u001b[36m0:00:00\u001b[0m\n",
            "\u001b[?25hDownloading nvidia_cuda_cupti_cu12-12.4.127-py3-none-manylinux2014_x86_64.whl (13.8 MB)\n",
            "\u001b[2K   \u001b[90m━━━━━━━━━━━━━━━━━━━━━━━━━━━━━━━━━━━━━━━━\u001b[0m \u001b[32m13.8/13.8 MB\u001b[0m \u001b[31m69.8 MB/s\u001b[0m eta \u001b[36m0:00:00\u001b[0m\n",
            "\u001b[?25hDownloading nvidia_cuda_nvrtc_cu12-12.4.127-py3-none-manylinux2014_x86_64.whl (24.6 MB)\n",
            "\u001b[2K   \u001b[90m━━━━━━━━━━━━━━━━━━━━━━━━━━━━━━━━━━━━━━━━\u001b[0m \u001b[32m24.6/24.6 MB\u001b[0m \u001b[31m55.5 MB/s\u001b[0m eta \u001b[36m0:00:00\u001b[0m\n",
            "\u001b[?25hDownloading nvidia_cuda_runtime_cu12-12.4.127-py3-none-manylinux2014_x86_64.whl (883 kB)\n",
            "\u001b[2K   \u001b[90m━━━━━━━━━━━━━━━━━━━━━━━━━━━━━━━━━━━━━━━━\u001b[0m \u001b[32m883.7/883.7 kB\u001b[0m \u001b[31m35.0 MB/s\u001b[0m eta \u001b[36m0:00:00\u001b[0m\n",
            "\u001b[?25hDownloading nvidia_cudnn_cu12-9.1.0.70-py3-none-manylinux2014_x86_64.whl (664.8 MB)\n",
            "\u001b[2K   \u001b[90m━━━━━━━━━━━━━━━━━━━━━━━━━━━━━━━━━━━━━━━━\u001b[0m \u001b[32m664.8/664.8 MB\u001b[0m \u001b[31m2.8 MB/s\u001b[0m eta \u001b[36m0:00:00\u001b[0m\n",
            "\u001b[?25hDownloading nvidia_cufft_cu12-11.2.1.3-py3-none-manylinux2014_x86_64.whl (211.5 MB)\n",
            "\u001b[2K   \u001b[90m━━━━━━━━━━━━━━━━━━━━━━━━━━━━━━━━━━━━━━━━\u001b[0m \u001b[32m211.5/211.5 MB\u001b[0m \u001b[31m5.9 MB/s\u001b[0m eta \u001b[36m0:00:00\u001b[0m\n",
            "\u001b[?25hDownloading nvidia_curand_cu12-10.3.5.147-py3-none-manylinux2014_x86_64.whl (56.3 MB)\n",
            "\u001b[2K   \u001b[90m━━━━━━━━━━━━━━━━━━━━━━━━━━━━━━━━━━━━━━━━\u001b[0m \u001b[32m56.3/56.3 MB\u001b[0m \u001b[31m11.9 MB/s\u001b[0m eta \u001b[36m0:00:00\u001b[0m\n",
            "\u001b[?25hDownloading nvidia_cusolver_cu12-11.6.1.9-py3-none-manylinux2014_x86_64.whl (127.9 MB)\n",
            "\u001b[2K   \u001b[90m━━━━━━━━━━━━━━━━━━━━━━━━━━━━━━━━━━━━━━━━\u001b[0m \u001b[32m127.9/127.9 MB\u001b[0m \u001b[31m7.0 MB/s\u001b[0m eta \u001b[36m0:00:00\u001b[0m\n",
            "\u001b[?25hDownloading nvidia_cusparse_cu12-12.3.1.170-py3-none-manylinux2014_x86_64.whl (207.5 MB)\n",
            "\u001b[2K   \u001b[90m━━━━━━━━━━━━━━━━━━━━━━━━━━━━━━━━━━━━━━━━\u001b[0m \u001b[32m207.5/207.5 MB\u001b[0m \u001b[31m5.6 MB/s\u001b[0m eta \u001b[36m0:00:00\u001b[0m\n",
            "\u001b[?25hDownloading nvidia_nvjitlink_cu12-12.4.127-py3-none-manylinux2014_x86_64.whl (21.1 MB)\n",
            "\u001b[2K   \u001b[90m━━━━━━━━━━━━━━━━━━━━━━━━━━━━━━━━━━━━━━━━\u001b[0m \u001b[32m21.1/21.1 MB\u001b[0m \u001b[31m41.9 MB/s\u001b[0m eta \u001b[36m0:00:00\u001b[0m\n",
            "\u001b[?25hInstalling collected packages: nvidia-nvjitlink-cu12, nvidia-curand-cu12, nvidia-cufft-cu12, nvidia-cuda-runtime-cu12, nvidia-cuda-nvrtc-cu12, nvidia-cuda-cupti-cu12, nvidia-cublas-cu12, nvidia-cusparse-cu12, nvidia-cudnn-cu12, nvidia-cusolver-cu12\n",
            "  Attempting uninstall: nvidia-nvjitlink-cu12\n",
            "    Found existing installation: nvidia-nvjitlink-cu12 12.5.82\n",
            "    Uninstalling nvidia-nvjitlink-cu12-12.5.82:\n",
            "      Successfully uninstalled nvidia-nvjitlink-cu12-12.5.82\n",
            "  Attempting uninstall: nvidia-curand-cu12\n",
            "    Found existing installation: nvidia-curand-cu12 10.3.6.82\n",
            "    Uninstalling nvidia-curand-cu12-10.3.6.82:\n",
            "      Successfully uninstalled nvidia-curand-cu12-10.3.6.82\n",
            "  Attempting uninstall: nvidia-cufft-cu12\n",
            "    Found existing installation: nvidia-cufft-cu12 11.2.3.61\n",
            "    Uninstalling nvidia-cufft-cu12-11.2.3.61:\n",
            "      Successfully uninstalled nvidia-cufft-cu12-11.2.3.61\n",
            "  Attempting uninstall: nvidia-cuda-runtime-cu12\n",
            "    Found existing installation: nvidia-cuda-runtime-cu12 12.5.82\n",
            "    Uninstalling nvidia-cuda-runtime-cu12-12.5.82:\n",
            "      Successfully uninstalled nvidia-cuda-runtime-cu12-12.5.82\n",
            "  Attempting uninstall: nvidia-cuda-nvrtc-cu12\n",
            "    Found existing installation: nvidia-cuda-nvrtc-cu12 12.5.82\n",
            "    Uninstalling nvidia-cuda-nvrtc-cu12-12.5.82:\n",
            "      Successfully uninstalled nvidia-cuda-nvrtc-cu12-12.5.82\n",
            "  Attempting uninstall: nvidia-cuda-cupti-cu12\n",
            "    Found existing installation: nvidia-cuda-cupti-cu12 12.5.82\n",
            "    Uninstalling nvidia-cuda-cupti-cu12-12.5.82:\n",
            "      Successfully uninstalled nvidia-cuda-cupti-cu12-12.5.82\n",
            "  Attempting uninstall: nvidia-cublas-cu12\n",
            "    Found existing installation: nvidia-cublas-cu12 12.5.3.2\n",
            "    Uninstalling nvidia-cublas-cu12-12.5.3.2:\n",
            "      Successfully uninstalled nvidia-cublas-cu12-12.5.3.2\n",
            "  Attempting uninstall: nvidia-cusparse-cu12\n",
            "    Found existing installation: nvidia-cusparse-cu12 12.5.1.3\n",
            "    Uninstalling nvidia-cusparse-cu12-12.5.1.3:\n",
            "      Successfully uninstalled nvidia-cusparse-cu12-12.5.1.3\n",
            "  Attempting uninstall: nvidia-cudnn-cu12\n",
            "    Found existing installation: nvidia-cudnn-cu12 9.3.0.75\n",
            "    Uninstalling nvidia-cudnn-cu12-9.3.0.75:\n",
            "      Successfully uninstalled nvidia-cudnn-cu12-9.3.0.75\n",
            "  Attempting uninstall: nvidia-cusolver-cu12\n",
            "    Found existing installation: nvidia-cusolver-cu12 11.6.3.83\n",
            "    Uninstalling nvidia-cusolver-cu12-11.6.3.83:\n",
            "      Successfully uninstalled nvidia-cusolver-cu12-11.6.3.83\n",
            "Successfully installed nvidia-cublas-cu12-12.4.5.8 nvidia-cuda-cupti-cu12-12.4.127 nvidia-cuda-nvrtc-cu12-12.4.127 nvidia-cuda-runtime-cu12-12.4.127 nvidia-cudnn-cu12-9.1.0.70 nvidia-cufft-cu12-11.2.1.3 nvidia-curand-cu12-10.3.5.147 nvidia-cusolver-cu12-11.6.1.9 nvidia-cusparse-cu12-12.3.1.170 nvidia-nvjitlink-cu12-12.4.127\n"
          ]
        }
      ],
      "source": [
        "pip install torch wandb pandas tqdm"
      ]
    },
    {
      "cell_type": "code",
      "source": [
        "import torch\n",
        "import torch.nn as nn\n",
        "from torch.utils.data import Dataset, DataLoader\n",
        "import random\n",
        "import wandb\n",
        "import editdistance\n",
        "import numpy as np\n",
        "\n",
        "device = 'cuda' if torch.cuda.is_available() else 'cpu'\n",
        "LANG = 'te'\n",
        "base_path = f'/content/drive/MyDrive/dakshina_dataset_v1.0/{LANG}/lexicons/'\n",
        "\n",
        "def read_pairs(filepath, max_len=40):\n",
        "    pairs = []\n",
        "    with open(filepath, encoding='utf8') as f:\n",
        "        for line in f:\n",
        "            parts = line.strip().split('\\t')\n",
        "            if len(parts) < 2:\n",
        "                continue\n",
        "            src, tgt = parts[0], parts[1]\n",
        "            if len(src) <= max_len and len(tgt) <= max_len:\n",
        "                pairs.append((src, tgt))\n",
        "    return pairs\n",
        "\n",
        "def build_vocab(sequences):\n",
        "    vocab = {'<pad>':0, '<sos>':1, '<eos>':2}\n",
        "    idx = 3\n",
        "    for seq in sequences:\n",
        "        for ch in seq:\n",
        "            if ch not in vocab:\n",
        "                vocab[ch] = idx\n",
        "                idx += 1\n",
        "    inv_vocab = {i:c for c,i in vocab.items()}\n",
        "    return vocab, inv_vocab\n",
        "\n",
        "def tokenize(seq, vocab):\n",
        "    return [vocab['<sos>']] + [vocab[ch] for ch in seq] + [vocab['<eos>']]\n",
        "\n",
        "def pad_seq(seq, max_len, pad_idx=0):\n",
        "    return seq + [pad_idx] * (max_len - len(seq))\n",
        "\n",
        "class TransliterationDataset(Dataset):\n",
        "    def __init__(self, pairs, src_vocab, tgt_vocab):\n",
        "        self.src_pad = src_vocab['<pad>']\n",
        "        self.tgt_pad = tgt_vocab['<pad>']\n",
        "        self.data = []\n",
        "        for src, tgt in pairs:\n",
        "            src_t = tokenize(src, src_vocab)\n",
        "            tgt_t = tokenize(tgt, tgt_vocab)\n",
        "            self.data.append((src_t, tgt_t))\n",
        "        self.src_max = max(len(x[0]) for x in self.data)\n",
        "        self.tgt_max = max(len(x[1]) for x in self.data)\n",
        "\n",
        "    def __len__(self): return len(self.data)\n",
        "\n",
        "    def __getitem__(self, idx):\n",
        "        src, tgt = self.data[idx]\n",
        "        src = pad_seq(src, self.src_max, self.src_pad)\n",
        "        tgt = pad_seq(tgt, self.tgt_max, self.tgt_pad)\n",
        "        return torch.tensor(src), torch.tensor(tgt)\n",
        "\n",
        "class Encoder(nn.Module):\n",
        "    def __init__(self, input_dim, emb_dim, hid_dim, n_layers, dropout, cell='lstm'):\n",
        "        super().__init__()\n",
        "        self.embedding = nn.Embedding(input_dim, emb_dim)\n",
        "        rnn_cls = {'rnn': nn.RNN, 'gru': nn.GRU, 'lstm': nn.LSTM}[cell.lower()]\n",
        "        self.rnn = rnn_cls(emb_dim, hid_dim, n_layers, dropout=dropout if n_layers > 1 else 0, batch_first=True)\n",
        "        self.cell = cell.lower()\n",
        "\n",
        "    def forward(self, src):\n",
        "        embedded = self.embedding(src)\n",
        "        if self.cell == 'lstm':\n",
        "            outputs, (hidden, cell) = self.rnn(embedded)\n",
        "            return hidden, cell\n",
        "        else:\n",
        "            outputs, hidden = self.rnn(embedded)\n",
        "            return hidden, None\n",
        "\n",
        "class Decoder(nn.Module):\n",
        "    def __init__(self, output_dim, emb_dim, hid_dim, n_layers, dropout, cell='lstm'):\n",
        "        super().__init__()\n",
        "        self.embedding = nn.Embedding(output_dim, emb_dim)\n",
        "        rnn_cls = {'rnn': nn.RNN, 'gru': nn.GRU, 'lstm': nn.LSTM}[cell.lower()]\n",
        "        self.rnn = rnn_cls(emb_dim, hid_dim, n_layers, dropout=dropout if n_layers > 1 else 0, batch_first=True)\n",
        "        self.fc_out = nn.Linear(hid_dim, output_dim)\n",
        "        self.cell = cell.lower()\n",
        "\n",
        "    def forward(self, input, hidden, cell=None):\n",
        "        input = input.unsqueeze(1)\n",
        "        embedded = self.embedding(input)\n",
        "        if self.cell == 'lstm':\n",
        "            output, (hidden, cell) = self.rnn(embedded, (hidden, cell))\n",
        "        else:\n",
        "            output, hidden = self.rnn(embedded, hidden)\n",
        "            cell = None\n",
        "        prediction = self.fc_out(output.squeeze(1))\n",
        "        return prediction, hidden, cell\n",
        "\n",
        "class Seq2Seq(nn.Module):\n",
        "    def __init__(self, encoder, decoder, device):\n",
        "        super().__init__()\n",
        "        self.encoder = encoder\n",
        "        self.decoder = decoder\n",
        "        self.device = device\n",
        "\n",
        "    def forward(self, src, tgt, teacher_forcing_ratio=0.5):\n",
        "        batch_size = src.size(0)\n",
        "        trg_len = tgt.size(1)\n",
        "        output_dim = self.decoder.fc_out.out_features\n",
        "\n",
        "        outputs = torch.zeros(batch_size, trg_len, output_dim).to(self.device)\n",
        "        hidden, cell = self.encoder(src)\n",
        "        input = tgt[:, 0]\n",
        "\n",
        "        for t in range(1, trg_len):\n",
        "            output, hidden, cell = self.decoder(input, hidden, cell)\n",
        "            outputs[:, t] = output\n",
        "            teacher_force = random.random() < teacher_forcing_ratio\n",
        "            top1 = output.argmax(1)\n",
        "            input = tgt[:, t] if teacher_force else top1\n",
        "        return outputs\n",
        "\n",
        "def calculate_accuracy(preds, y, pad_idx=0):\n",
        "    max_preds = preds.argmax(dim=2)\n",
        "    non_pad = y != pad_idx\n",
        "    correct = (max_preds == y) & non_pad\n",
        "    return correct.sum().item() / non_pad.sum().item()\n",
        "\n",
        "def calculate_cer(preds, targets, pad_idx=0):\n",
        "    cer, total = 0, 0\n",
        "    for pred, tgt in zip(preds, targets):\n",
        "        # Remove PAD tokens for evaluation.\n",
        "        pred = [p for p in pred if p != pad_idx]\n",
        "        tgt = [t for t in tgt if t != pad_idx]\n",
        "        cer += editdistance.eval(pred, tgt)\n",
        "        total += len(tgt)\n",
        "    return cer / total if total > 0 else 0\n",
        "\n",
        "def run(config=None):\n",
        "    with wandb.init(config=config):\n",
        "        cfg = wandb.config\n",
        "        cfg.hidden_dim = 2 * cfg.embed_dim if cfg.hidden_dim_config == 'double' else cfg.embed_dim\n",
        "        sweep_name = f\"{cfg.cell_type}_{embed}e_{hidden}h_{cfg.layers}l_\" \\\n",
        "             f\"{int(cfg.dropout*100)}d_{int(cfg.teacher_forcing*10)}tf_\" \\\n",
        "             f\"{str(cfg.lr).replace('.', '')}lr\"\n",
        "\n",
        "        wandb.run.name = sweep_name\n",
        "\n",
        "        max_len = 30\n",
        "\n",
        "        # Load data (ensure paths match your dataset—full dataset naming assumed)\n",
        "        train_pairs = read_pairs(base_path + f\"{LANG}.translit.sampled.train.tsv\", max_len=max_len)\n",
        "        val_pairs   = read_pairs(base_path + f\"{LANG}.translit.sampled.dev.tsv\",   max_len=max_len)\n",
        "        test_pairs  = read_pairs(base_path + f\"{LANG}.translit.sampled.test.tsv\",  max_len=max_len)\n",
        "\n",
        "        src_vocab, _ = build_vocab([x[0] for x in train_pairs])\n",
        "        tgt_vocab, _ = build_vocab([x[1] for x in train_pairs])\n",
        "\n",
        "        # (Add assertions to ensure special tokens are consistent)\n",
        "        assert src_vocab['<pad>'] == 0 and tgt_vocab['<pad>'] == 0, \"Pad token must be index 0 in both vocabs.\"\n",
        "\n",
        "        train_ds = TransliterationDataset(train_pairs, src_vocab, tgt_vocab)\n",
        "        val_ds   = TransliterationDataset(val_pairs,   src_vocab, tgt_vocab)\n",
        "        test_ds  = TransliterationDataset(test_pairs,  src_vocab, tgt_vocab)\n",
        "\n",
        "        # Use drop_last=True to ensure consistent batch sizes.\n",
        "        train_dl = DataLoader(train_ds, batch_size=cfg.batch_size, shuffle=True, drop_last=True)\n",
        "        val_dl   = DataLoader(val_ds,   batch_size=cfg.batch_size, drop_last=True)\n",
        "        test_dl  = DataLoader(test_ds,  batch_size=cfg.batch_size, drop_last=True)\n",
        "\n",
        "        encoder = Encoder(len(src_vocab), cfg.embed_dim, cfg.hidden_dim, cfg.layers, cfg.dropout, cfg.cell_type).to(device)\n",
        "        decoder = Decoder(len(tgt_vocab), cfg.embed_dim, cfg.hidden_dim, cfg.layers, cfg.dropout, cfg.cell_type).to(device)\n",
        "        model = Seq2Seq(encoder, decoder, device).to(device)\n",
        "\n",
        "        optimizer = torch.optim.Adam(model.parameters(), lr=cfg.lr)\n",
        "        criterion = nn.CrossEntropyLoss(ignore_index=src_vocab['<pad>'])\n",
        "        scheduler = torch.optim.lr_scheduler.ReduceLROnPlateau(optimizer, 'min', patience=2, factor=0.5)\n",
        "\n",
        "        best_val_loss = float('inf')\n",
        "        patience = 5\n",
        "        wait = 0\n",
        "\n",
        "        for epoch in range(cfg.epochs):\n",
        "            model.train()\n",
        "            total_loss = 0\n",
        "            total_acc  = 0\n",
        "\n",
        "            for src, tgt in train_dl:\n",
        "                src, tgt = src.to(device), tgt.to(device)\n",
        "                optimizer.zero_grad()\n",
        "                output = model(src, tgt, cfg.teacher_forcing)\n",
        "                out_dim = output.shape[-1]\n",
        "                loss = criterion(output[:, 1:].reshape(-1, out_dim), tgt[:, 1:].reshape(-1))\n",
        "                acc = calculate_accuracy(output[:, 1:], tgt[:, 1:], pad_idx=src_vocab['<pad>'])\n",
        "                loss.backward()\n",
        "                torch.nn.utils.clip_grad_norm_(model.parameters(), max_norm=1.0)\n",
        "                optimizer.step()\n",
        "\n",
        "                total_loss += loss.item()\n",
        "                total_acc  += acc\n",
        "\n",
        "            avg_train_loss = total_loss / len(train_dl)\n",
        "            avg_train_acc  = total_acc / len(train_dl)\n",
        "\n",
        "            model.eval()\n",
        "            val_loss = 0\n",
        "            val_acc  = 0\n",
        "            val_cer  = 0\n",
        "            with torch.no_grad():\n",
        "                for src, tgt in val_dl:\n",
        "                    src, tgt = src.to(device), tgt.to(device)\n",
        "                    output = model(src, tgt, teacher_forcing_ratio=0)\n",
        "                    out_dim = output.shape[-1]\n",
        "                    loss = criterion(output[:, 1:].reshape(-1, out_dim), tgt[:, 1:].reshape(-1))\n",
        "                    acc = calculate_accuracy(output[:, 1:], tgt[:, 1:], pad_idx=src_vocab['<pad>'])\n",
        "                    val_loss += loss.item()\n",
        "                    val_acc  += acc\n",
        "                    preds = output.argmax(2).tolist()\n",
        "                    targets = tgt.tolist()\n",
        "                    val_cer += calculate_cer(preds, targets, pad_idx=src_vocab['<pad>'])\n",
        "\n",
        "            avg_val_loss = val_loss / len(val_dl)\n",
        "            avg_val_acc  = val_acc / len(val_dl)\n",
        "            avg_val_cer  = val_cer / len(val_dl)\n",
        "\n",
        "            scheduler.step(avg_val_loss)\n",
        "\n",
        "            wandb.log({\n",
        "                'train_loss': avg_train_loss,\n",
        "                'train_accuracy': avg_train_acc,\n",
        "                'val_loss': avg_val_loss,\n",
        "                'val_accuracy': avg_val_acc,\n",
        "                'val_cer': avg_val_cer,\n",
        "                'epoch': epoch + 1\n",
        "            })\n",
        "            print(f\"Epoch {epoch+1} | Train Loss: {avg_train_loss:.3f} Acc: {avg_train_acc:.3f} | \"\n",
        "                  f\"Val Loss: {avg_val_loss:.3f} Acc: {avg_val_acc:.3f} CER: {avg_val_cer:.3f}\")\n",
        "\n",
        "            # Early Stopping Check\n",
        "            if avg_val_loss < best_val_loss:\n",
        "                best_val_loss = avg_val_loss\n",
        "                wait = 0\n",
        "                torch.save(model.state_dict(), 'best_model.pt')\n",
        "            else:\n",
        "                wait += 1\n",
        "                if wait >= patience:\n",
        "                    print(\"Early stopping triggered.\")\n",
        "                    break\n",
        "\n",
        "        # After training, load the best model and evaluate on the test set.\n",
        "        model.load_state_dict(torch.load('best_model.pt'))\n",
        "        model.eval()\n",
        "        test_loss = 0\n",
        "        test_acc  = 0\n",
        "        test_cer  = 0\n",
        "        with torch.no_grad():\n",
        "            for src, tgt in test_dl:\n",
        "                src, tgt = src.to(device), tgt.to(device)\n",
        "                output = model(src, tgt, teacher_forcing_ratio=0)\n",
        "                out_dim = output.shape[-1]\n",
        "                loss = criterion(output[:, 1:].reshape(-1, out_dim), tgt[:, 1:].reshape(-1))\n",
        "                acc = calculate_accuracy(output[:, 1:], tgt[:, 1:], pad_idx=src_vocab['<pad>'])\n",
        "                test_loss += loss.item()\n",
        "                test_acc  += acc\n",
        "                preds = output.argmax(2).tolist()\n",
        "                targets = tgt.tolist()\n",
        "                test_cer += calculate_cer(preds, targets, pad_idx=src_vocab['<pad>'])\n",
        "        avg_test_loss = test_loss / len(test_dl)\n",
        "        avg_test_acc  = test_acc / len(test_dl)\n",
        "        avg_test_cer  = test_cer / len(test_dl)\n",
        "        print(f\"Test Loss: {avg_test_loss:.3f} | Test Acc: {avg_test_acc:.3f} | Test CER: {avg_test_cer:.3f}\")\n",
        "\n",
        "sweep_config = {\n",
        "    'method': 'bayes',\n",
        "    'metric': {'name': 'val_loss', 'goal': 'minimize'},\n",
        "    'parameters': {\n",
        "        'embed_dim': {'values': [32, 64, 128]},\n",
        "        'hidden_dim_config': {'values': ['same', 'double']},\n",
        "        'layers': {'values': [1, 2]},\n",
        "        'dropout': {'values': [0.2, 0.3]},\n",
        "        'lr': {'values': [0.001, 0.0005]},\n",
        "        'cell_type': {'values': ['rnn', 'gru', 'lstm']},\n",
        "        'teacher_forcing': {'values': [0.5, 0.7]},\n",
        "        'batch_size': {'value': 64},\n",
        "        'epochs': {'value': 1}\n",
        "    }\n",
        "}"
      ],
      "metadata": {
        "id": "Sqry1mukh_mh"
      },
      "execution_count": 41,
      "outputs": []
    },
    {
      "cell_type": "code",
      "source": [
        "import wandb\n",
        "wandb.login()\n",
        "\n",
        "sweep_id = wandb.sweep(sweep_config, project=\"dakshina-seq2seq\")\n",
        "wandb.agent(sweep_id, function=run, count=1)"
      ],
      "metadata": {
        "colab": {
          "base_uri": "https://localhost:8080/",
          "height": 915
        },
        "id": "Y695HVE-Z6Cj",
        "outputId": "bd2e1912-0243-4c2d-d6e2-dd86d97a265f"
      },
      "execution_count": 29,
      "outputs": [
        {
          "output_type": "stream",
          "name": "stdout",
          "text": [
            "Create sweep with ID: q7u772x7\n",
            "Sweep URL: https://wandb.ai/sai-sakunthala-indian-institute-of-technology-madras/dakshina-seq2seq/sweeps/q7u772x7\n"
          ]
        },
        {
          "output_type": "stream",
          "name": "stderr",
          "text": [
            "\u001b[34m\u001b[1mwandb\u001b[0m: Agent Starting Run: upniv94b with config:\n",
            "\u001b[34m\u001b[1mwandb\u001b[0m: \tbatch_size: 64\n",
            "\u001b[34m\u001b[1mwandb\u001b[0m: \tcell_type: gru\n",
            "\u001b[34m\u001b[1mwandb\u001b[0m: \tdevice: cpu\n",
            "\u001b[34m\u001b[1mwandb\u001b[0m: \tdropout: 0.2\n",
            "\u001b[34m\u001b[1mwandb\u001b[0m: \tembed_dim: 128\n",
            "\u001b[34m\u001b[1mwandb\u001b[0m: \tepochs: 1\n",
            "\u001b[34m\u001b[1mwandb\u001b[0m: \thidden_dim: 128\n",
            "\u001b[34m\u001b[1mwandb\u001b[0m: \tlayers: 1\n",
            "\u001b[34m\u001b[1mwandb\u001b[0m: \tlr: 0.001\n",
            "\u001b[34m\u001b[1mwandb\u001b[0m: \tmax_len: 60\n",
            "\u001b[34m\u001b[1mwandb\u001b[0m: \tteacher_forcing: 0.5\n"
          ]
        },
        {
          "output_type": "display_data",
          "data": {
            "text/plain": [
              "<IPython.core.display.HTML object>"
            ],
            "text/html": [
              "Tracking run with wandb version 0.19.11"
            ]
          },
          "metadata": {}
        },
        {
          "output_type": "display_data",
          "data": {
            "text/plain": [
              "<IPython.core.display.HTML object>"
            ],
            "text/html": [
              "Run data is saved locally in <code>/content/wandb/run-20250517_155923-upniv94b</code>"
            ]
          },
          "metadata": {}
        },
        {
          "output_type": "display_data",
          "data": {
            "text/plain": [
              "<IPython.core.display.HTML object>"
            ],
            "text/html": [
              "Syncing run <strong><a href='https://wandb.ai/sai-sakunthala-indian-institute-of-technology-madras/dakshina-seq2seq/runs/upniv94b' target=\"_blank\">worldly-sweep-1</a></strong> to <a href='https://wandb.ai/sai-sakunthala-indian-institute-of-technology-madras/dakshina-seq2seq' target=\"_blank\">Weights & Biases</a> (<a href='https://wandb.me/developer-guide' target=\"_blank\">docs</a>)<br>Sweep page: <a href='https://wandb.ai/sai-sakunthala-indian-institute-of-technology-madras/dakshina-seq2seq/sweeps/q7u772x7' target=\"_blank\">https://wandb.ai/sai-sakunthala-indian-institute-of-technology-madras/dakshina-seq2seq/sweeps/q7u772x7</a>"
            ]
          },
          "metadata": {}
        },
        {
          "output_type": "display_data",
          "data": {
            "text/plain": [
              "<IPython.core.display.HTML object>"
            ],
            "text/html": [
              " View project at <a href='https://wandb.ai/sai-sakunthala-indian-institute-of-technology-madras/dakshina-seq2seq' target=\"_blank\">https://wandb.ai/sai-sakunthala-indian-institute-of-technology-madras/dakshina-seq2seq</a>"
            ]
          },
          "metadata": {}
        },
        {
          "output_type": "display_data",
          "data": {
            "text/plain": [
              "<IPython.core.display.HTML object>"
            ],
            "text/html": [
              " View sweep at <a href='https://wandb.ai/sai-sakunthala-indian-institute-of-technology-madras/dakshina-seq2seq/sweeps/q7u772x7' target=\"_blank\">https://wandb.ai/sai-sakunthala-indian-institute-of-technology-madras/dakshina-seq2seq/sweeps/q7u772x7</a>"
            ]
          },
          "metadata": {}
        },
        {
          "output_type": "display_data",
          "data": {
            "text/plain": [
              "<IPython.core.display.HTML object>"
            ],
            "text/html": [
              " View run at <a href='https://wandb.ai/sai-sakunthala-indian-institute-of-technology-madras/dakshina-seq2seq/runs/upniv94b' target=\"_blank\">https://wandb.ai/sai-sakunthala-indian-institute-of-technology-madras/dakshina-seq2seq/runs/upniv94b</a>"
            ]
          },
          "metadata": {}
        },
        {
          "output_type": "stream",
          "name": "stdout",
          "text": [
            "Epoch 1 | Train Loss: 1.969 Acc: 0.402 | Val Loss: 1.860 Acc: 0.412 CER: 1.521\n",
            "Test Loss: 1.888 | Test Acc: 0.403 | Test CER: 1.684\n"
          ]
        },
        {
          "output_type": "display_data",
          "data": {
            "text/plain": [
              "<IPython.core.display.HTML object>"
            ],
            "text/html": []
          },
          "metadata": {}
        },
        {
          "output_type": "display_data",
          "data": {
            "text/plain": [
              "<IPython.core.display.HTML object>"
            ],
            "text/html": [
              "<br>    <style><br>        .wandb-row {<br>            display: flex;<br>            flex-direction: row;<br>            flex-wrap: wrap;<br>            justify-content: flex-start;<br>            width: 100%;<br>        }<br>        .wandb-col {<br>            display: flex;<br>            flex-direction: column;<br>            flex-basis: 100%;<br>            flex: 1;<br>            padding: 10px;<br>        }<br>    </style><br><div class=\"wandb-row\"><div class=\"wandb-col\"><h3>Run history:</h3><br/><table class=\"wandb\"><tr><td>epoch</td><td>▁</td></tr><tr><td>train_accuracy</td><td>▁</td></tr><tr><td>train_loss</td><td>▁</td></tr><tr><td>val_accuracy</td><td>▁</td></tr><tr><td>val_cer</td><td>▁</td></tr><tr><td>val_loss</td><td>▁</td></tr></table><br/></div><div class=\"wandb-col\"><h3>Run summary:</h3><br/><table class=\"wandb\"><tr><td>epoch</td><td>1</td></tr><tr><td>train_accuracy</td><td>0.40152</td></tr><tr><td>train_loss</td><td>1.9694</td></tr><tr><td>val_accuracy</td><td>0.41206</td></tr><tr><td>val_cer</td><td>1.52082</td></tr><tr><td>val_loss</td><td>1.86028</td></tr></table><br/></div></div>"
            ]
          },
          "metadata": {}
        },
        {
          "output_type": "display_data",
          "data": {
            "text/plain": [
              "<IPython.core.display.HTML object>"
            ],
            "text/html": [
              " View run <strong style=\"color:#cdcd00\">worldly-sweep-1</strong> at: <a href='https://wandb.ai/sai-sakunthala-indian-institute-of-technology-madras/dakshina-seq2seq/runs/upniv94b' target=\"_blank\">https://wandb.ai/sai-sakunthala-indian-institute-of-technology-madras/dakshina-seq2seq/runs/upniv94b</a><br> View project at: <a href='https://wandb.ai/sai-sakunthala-indian-institute-of-technology-madras/dakshina-seq2seq' target=\"_blank\">https://wandb.ai/sai-sakunthala-indian-institute-of-technology-madras/dakshina-seq2seq</a><br>Synced 5 W&B file(s), 0 media file(s), 0 artifact file(s) and 0 other file(s)"
            ]
          },
          "metadata": {}
        },
        {
          "output_type": "display_data",
          "data": {
            "text/plain": [
              "<IPython.core.display.HTML object>"
            ],
            "text/html": [
              "Find logs at: <code>./wandb/run-20250517_155923-upniv94b/logs</code>"
            ]
          },
          "metadata": {}
        }
      ]
    },
    {
      "cell_type": "code",
      "source": [
        "wandb.finish()"
      ],
      "metadata": {
        "id": "P5uflSoUgMw9"
      },
      "execution_count": 30,
      "outputs": []
    }
  ]
}