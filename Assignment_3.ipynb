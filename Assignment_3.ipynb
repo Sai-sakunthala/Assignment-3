{
  "nbformat": 4,
  "nbformat_minor": 0,
  "metadata": {
    "colab": {
      "provenance": [],
      "gpuType": "T4",
      "mount_file_id": "1jnkIU9SBni8u9OV3c4Lq0i49BrMd1ghR",
      "authorship_tag": "ABX9TyNz2/sQrY1qwZlAU5zQH+ng",
      "include_colab_link": true
    },
    "kernelspec": {
      "name": "python3",
      "display_name": "Python 3"
    },
    "language_info": {
      "name": "python"
    },
    "accelerator": "GPU"
  },
  "cells": [
    {
      "cell_type": "markdown",
      "metadata": {
        "id": "view-in-github",
        "colab_type": "text"
      },
      "source": [
        "<a href=\"https://colab.research.google.com/github/Sai-sakunthala/Assignment-3/blob/main/Assignment_3.ipynb\" target=\"_parent\"><img src=\"https://colab.research.google.com/assets/colab-badge.svg\" alt=\"Open In Colab\"/></a>"
      ]
    },
    {
      "cell_type": "code",
      "execution_count": null,
      "metadata": {
        "colab": {
          "base_uri": "https://localhost:8080/"
        },
        "id": "uhSxPRJXneyD",
        "outputId": "3d4b2040-e9d1-4eb2-ae5e-d3ea308ad704"
      },
      "outputs": [
        {
          "output_type": "stream",
          "name": "stdout",
          "text": [
            "Requirement already satisfied: torch in /usr/local/lib/python3.11/dist-packages (2.6.0+cu124)\n",
            "Requirement already satisfied: wandb in /usr/local/lib/python3.11/dist-packages (0.19.11)\n",
            "Requirement already satisfied: pandas in /usr/local/lib/python3.11/dist-packages (2.2.2)\n",
            "Requirement already satisfied: tqdm in /usr/local/lib/python3.11/dist-packages (4.67.1)\n",
            "Requirement already satisfied: filelock in /usr/local/lib/python3.11/dist-packages (from torch) (3.18.0)\n",
            "Requirement already satisfied: typing-extensions>=4.10.0 in /usr/local/lib/python3.11/dist-packages (from torch) (4.13.2)\n",
            "Requirement already satisfied: networkx in /usr/local/lib/python3.11/dist-packages (from torch) (3.4.2)\n",
            "Requirement already satisfied: jinja2 in /usr/local/lib/python3.11/dist-packages (from torch) (3.1.6)\n",
            "Requirement already satisfied: fsspec in /usr/local/lib/python3.11/dist-packages (from torch) (2025.3.2)\n",
            "Collecting nvidia-cuda-nvrtc-cu12==12.4.127 (from torch)\n",
            "  Downloading nvidia_cuda_nvrtc_cu12-12.4.127-py3-none-manylinux2014_x86_64.whl.metadata (1.5 kB)\n",
            "Collecting nvidia-cuda-runtime-cu12==12.4.127 (from torch)\n",
            "  Downloading nvidia_cuda_runtime_cu12-12.4.127-py3-none-manylinux2014_x86_64.whl.metadata (1.5 kB)\n",
            "Collecting nvidia-cuda-cupti-cu12==12.4.127 (from torch)\n",
            "  Downloading nvidia_cuda_cupti_cu12-12.4.127-py3-none-manylinux2014_x86_64.whl.metadata (1.6 kB)\n",
            "Collecting nvidia-cudnn-cu12==9.1.0.70 (from torch)\n",
            "  Downloading nvidia_cudnn_cu12-9.1.0.70-py3-none-manylinux2014_x86_64.whl.metadata (1.6 kB)\n",
            "Collecting nvidia-cublas-cu12==12.4.5.8 (from torch)\n",
            "  Downloading nvidia_cublas_cu12-12.4.5.8-py3-none-manylinux2014_x86_64.whl.metadata (1.5 kB)\n",
            "Collecting nvidia-cufft-cu12==11.2.1.3 (from torch)\n",
            "  Downloading nvidia_cufft_cu12-11.2.1.3-py3-none-manylinux2014_x86_64.whl.metadata (1.5 kB)\n",
            "Collecting nvidia-curand-cu12==10.3.5.147 (from torch)\n",
            "  Downloading nvidia_curand_cu12-10.3.5.147-py3-none-manylinux2014_x86_64.whl.metadata (1.5 kB)\n",
            "Collecting nvidia-cusolver-cu12==11.6.1.9 (from torch)\n",
            "  Downloading nvidia_cusolver_cu12-11.6.1.9-py3-none-manylinux2014_x86_64.whl.metadata (1.6 kB)\n",
            "Collecting nvidia-cusparse-cu12==12.3.1.170 (from torch)\n",
            "  Downloading nvidia_cusparse_cu12-12.3.1.170-py3-none-manylinux2014_x86_64.whl.metadata (1.6 kB)\n",
            "Requirement already satisfied: nvidia-cusparselt-cu12==0.6.2 in /usr/local/lib/python3.11/dist-packages (from torch) (0.6.2)\n",
            "Requirement already satisfied: nvidia-nccl-cu12==2.21.5 in /usr/local/lib/python3.11/dist-packages (from torch) (2.21.5)\n",
            "Requirement already satisfied: nvidia-nvtx-cu12==12.4.127 in /usr/local/lib/python3.11/dist-packages (from torch) (12.4.127)\n",
            "Collecting nvidia-nvjitlink-cu12==12.4.127 (from torch)\n",
            "  Downloading nvidia_nvjitlink_cu12-12.4.127-py3-none-manylinux2014_x86_64.whl.metadata (1.5 kB)\n",
            "Requirement already satisfied: triton==3.2.0 in /usr/local/lib/python3.11/dist-packages (from torch) (3.2.0)\n",
            "Requirement already satisfied: sympy==1.13.1 in /usr/local/lib/python3.11/dist-packages (from torch) (1.13.1)\n",
            "Requirement already satisfied: mpmath<1.4,>=1.1.0 in /usr/local/lib/python3.11/dist-packages (from sympy==1.13.1->torch) (1.3.0)\n",
            "Requirement already satisfied: click!=8.0.0,>=7.1 in /usr/local/lib/python3.11/dist-packages (from wandb) (8.2.0)\n",
            "Requirement already satisfied: docker-pycreds>=0.4.0 in /usr/local/lib/python3.11/dist-packages (from wandb) (0.4.0)\n",
            "Requirement already satisfied: gitpython!=3.1.29,>=1.0.0 in /usr/local/lib/python3.11/dist-packages (from wandb) (3.1.44)\n",
            "Requirement already satisfied: platformdirs in /usr/local/lib/python3.11/dist-packages (from wandb) (4.3.8)\n",
            "Requirement already satisfied: protobuf!=4.21.0,!=5.28.0,<7,>=3.19.0 in /usr/local/lib/python3.11/dist-packages (from wandb) (5.29.4)\n",
            "Requirement already satisfied: psutil>=5.0.0 in /usr/local/lib/python3.11/dist-packages (from wandb) (5.9.5)\n",
            "Requirement already satisfied: pydantic<3 in /usr/local/lib/python3.11/dist-packages (from wandb) (2.11.4)\n",
            "Requirement already satisfied: pyyaml in /usr/local/lib/python3.11/dist-packages (from wandb) (6.0.2)\n",
            "Requirement already satisfied: requests<3,>=2.0.0 in /usr/local/lib/python3.11/dist-packages (from wandb) (2.32.3)\n",
            "Requirement already satisfied: sentry-sdk>=2.0.0 in /usr/local/lib/python3.11/dist-packages (from wandb) (2.28.0)\n",
            "Requirement already satisfied: setproctitle in /usr/local/lib/python3.11/dist-packages (from wandb) (1.3.6)\n",
            "Requirement already satisfied: setuptools in /usr/local/lib/python3.11/dist-packages (from wandb) (75.2.0)\n",
            "Requirement already satisfied: numpy>=1.23.2 in /usr/local/lib/python3.11/dist-packages (from pandas) (2.0.2)\n",
            "Requirement already satisfied: python-dateutil>=2.8.2 in /usr/local/lib/python3.11/dist-packages (from pandas) (2.9.0.post0)\n",
            "Requirement already satisfied: pytz>=2020.1 in /usr/local/lib/python3.11/dist-packages (from pandas) (2025.2)\n",
            "Requirement already satisfied: tzdata>=2022.7 in /usr/local/lib/python3.11/dist-packages (from pandas) (2025.2)\n",
            "Requirement already satisfied: six>=1.4.0 in /usr/local/lib/python3.11/dist-packages (from docker-pycreds>=0.4.0->wandb) (1.17.0)\n",
            "Requirement already satisfied: gitdb<5,>=4.0.1 in /usr/local/lib/python3.11/dist-packages (from gitpython!=3.1.29,>=1.0.0->wandb) (4.0.12)\n",
            "Requirement already satisfied: annotated-types>=0.6.0 in /usr/local/lib/python3.11/dist-packages (from pydantic<3->wandb) (0.7.0)\n",
            "Requirement already satisfied: pydantic-core==2.33.2 in /usr/local/lib/python3.11/dist-packages (from pydantic<3->wandb) (2.33.2)\n",
            "Requirement already satisfied: typing-inspection>=0.4.0 in /usr/local/lib/python3.11/dist-packages (from pydantic<3->wandb) (0.4.0)\n",
            "Requirement already satisfied: charset-normalizer<4,>=2 in /usr/local/lib/python3.11/dist-packages (from requests<3,>=2.0.0->wandb) (3.4.2)\n",
            "Requirement already satisfied: idna<4,>=2.5 in /usr/local/lib/python3.11/dist-packages (from requests<3,>=2.0.0->wandb) (3.10)\n",
            "Requirement already satisfied: urllib3<3,>=1.21.1 in /usr/local/lib/python3.11/dist-packages (from requests<3,>=2.0.0->wandb) (2.4.0)\n",
            "Requirement already satisfied: certifi>=2017.4.17 in /usr/local/lib/python3.11/dist-packages (from requests<3,>=2.0.0->wandb) (2025.4.26)\n",
            "Requirement already satisfied: MarkupSafe>=2.0 in /usr/local/lib/python3.11/dist-packages (from jinja2->torch) (3.0.2)\n",
            "Requirement already satisfied: smmap<6,>=3.0.1 in /usr/local/lib/python3.11/dist-packages (from gitdb<5,>=4.0.1->gitpython!=3.1.29,>=1.0.0->wandb) (5.0.2)\n",
            "Downloading nvidia_cublas_cu12-12.4.5.8-py3-none-manylinux2014_x86_64.whl (363.4 MB)\n",
            "\u001b[2K   \u001b[90m━━━━━━━━━━━━━━━━━━━━━━━━━━━━━━━━━━━━━━━━\u001b[0m \u001b[32m363.4/363.4 MB\u001b[0m \u001b[31m4.4 MB/s\u001b[0m eta \u001b[36m0:00:00\u001b[0m\n",
            "\u001b[?25hDownloading nvidia_cuda_cupti_cu12-12.4.127-py3-none-manylinux2014_x86_64.whl (13.8 MB)\n",
            "\u001b[2K   \u001b[90m━━━━━━━━━━━━━━━━━━━━━━━━━━━━━━━━━━━━━━━━\u001b[0m \u001b[32m13.8/13.8 MB\u001b[0m \u001b[31m82.9 MB/s\u001b[0m eta \u001b[36m0:00:00\u001b[0m\n",
            "\u001b[?25hDownloading nvidia_cuda_nvrtc_cu12-12.4.127-py3-none-manylinux2014_x86_64.whl (24.6 MB)\n",
            "\u001b[2K   \u001b[90m━━━━━━━━━━━━━━━━━━━━━━━━━━━━━━━━━━━━━━━━\u001b[0m \u001b[32m24.6/24.6 MB\u001b[0m \u001b[31m65.9 MB/s\u001b[0m eta \u001b[36m0:00:00\u001b[0m\n",
            "\u001b[?25hDownloading nvidia_cuda_runtime_cu12-12.4.127-py3-none-manylinux2014_x86_64.whl (883 kB)\n",
            "\u001b[2K   \u001b[90m━━━━━━━━━━━━━━━━━━━━━━━━━━━━━━━━━━━━━━━━\u001b[0m \u001b[32m883.7/883.7 kB\u001b[0m \u001b[31m49.5 MB/s\u001b[0m eta \u001b[36m0:00:00\u001b[0m\n",
            "\u001b[?25hDownloading nvidia_cudnn_cu12-9.1.0.70-py3-none-manylinux2014_x86_64.whl (664.8 MB)\n",
            "\u001b[2K   \u001b[90m━━━━━━━━━━━━━━━━━━━━━━━━━━━━━━━━━━━━━━━━\u001b[0m \u001b[32m664.8/664.8 MB\u001b[0m \u001b[31m1.5 MB/s\u001b[0m eta \u001b[36m0:00:00\u001b[0m\n",
            "\u001b[?25hDownloading nvidia_cufft_cu12-11.2.1.3-py3-none-manylinux2014_x86_64.whl (211.5 MB)\n",
            "\u001b[2K   \u001b[90m━━━━━━━━━━━━━━━━━━━━━━━━━━━━━━━━━━━━━━━━\u001b[0m \u001b[32m211.5/211.5 MB\u001b[0m \u001b[31m4.8 MB/s\u001b[0m eta \u001b[36m0:00:00\u001b[0m\n",
            "\u001b[?25hDownloading nvidia_curand_cu12-10.3.5.147-py3-none-manylinux2014_x86_64.whl (56.3 MB)\n",
            "\u001b[2K   \u001b[90m━━━━━━━━━━━━━━━━━━━━━━━━━━━━━━━━━━━━━━━━\u001b[0m \u001b[32m56.3/56.3 MB\u001b[0m \u001b[31m6.7 MB/s\u001b[0m eta \u001b[36m0:00:00\u001b[0m\n",
            "\u001b[?25hDownloading nvidia_cusolver_cu12-11.6.1.9-py3-none-manylinux2014_x86_64.whl (127.9 MB)\n",
            "\u001b[2K   \u001b[90m━━━━━━━━━━━━━━━━━━━━━━━━━━━━━━━━━━━━━━━━\u001b[0m \u001b[32m127.9/127.9 MB\u001b[0m \u001b[31m5.5 MB/s\u001b[0m eta \u001b[36m0:00:00\u001b[0m\n",
            "\u001b[?25hDownloading nvidia_cusparse_cu12-12.3.1.170-py3-none-manylinux2014_x86_64.whl (207.5 MB)\n",
            "\u001b[2K   \u001b[90m━━━━━━━━━━━━━━━━━━━━━━━━━━━━━━━━━━━━━━━━\u001b[0m \u001b[32m207.5/207.5 MB\u001b[0m \u001b[31m4.3 MB/s\u001b[0m eta \u001b[36m0:00:00\u001b[0m\n",
            "\u001b[?25hDownloading nvidia_nvjitlink_cu12-12.4.127-py3-none-manylinux2014_x86_64.whl (21.1 MB)\n",
            "\u001b[2K   \u001b[90m━━━━━━━━━━━━━━━━━━━━━━━━━━━━━━━━━━━━━━━━\u001b[0m \u001b[32m21.1/21.1 MB\u001b[0m \u001b[31m8.6 MB/s\u001b[0m eta \u001b[36m0:00:00\u001b[0m\n",
            "\u001b[?25hInstalling collected packages: nvidia-nvjitlink-cu12, nvidia-curand-cu12, nvidia-cufft-cu12, nvidia-cuda-runtime-cu12, nvidia-cuda-nvrtc-cu12, nvidia-cuda-cupti-cu12, nvidia-cublas-cu12, nvidia-cusparse-cu12, nvidia-cudnn-cu12, nvidia-cusolver-cu12\n",
            "  Attempting uninstall: nvidia-nvjitlink-cu12\n",
            "    Found existing installation: nvidia-nvjitlink-cu12 12.5.82\n",
            "    Uninstalling nvidia-nvjitlink-cu12-12.5.82:\n",
            "      Successfully uninstalled nvidia-nvjitlink-cu12-12.5.82\n",
            "  Attempting uninstall: nvidia-curand-cu12\n",
            "    Found existing installation: nvidia-curand-cu12 10.3.6.82\n",
            "    Uninstalling nvidia-curand-cu12-10.3.6.82:\n",
            "      Successfully uninstalled nvidia-curand-cu12-10.3.6.82\n",
            "  Attempting uninstall: nvidia-cufft-cu12\n",
            "    Found existing installation: nvidia-cufft-cu12 11.2.3.61\n",
            "    Uninstalling nvidia-cufft-cu12-11.2.3.61:\n",
            "      Successfully uninstalled nvidia-cufft-cu12-11.2.3.61\n",
            "  Attempting uninstall: nvidia-cuda-runtime-cu12\n",
            "    Found existing installation: nvidia-cuda-runtime-cu12 12.5.82\n",
            "    Uninstalling nvidia-cuda-runtime-cu12-12.5.82:\n",
            "      Successfully uninstalled nvidia-cuda-runtime-cu12-12.5.82\n",
            "  Attempting uninstall: nvidia-cuda-nvrtc-cu12\n",
            "    Found existing installation: nvidia-cuda-nvrtc-cu12 12.5.82\n",
            "    Uninstalling nvidia-cuda-nvrtc-cu12-12.5.82:\n",
            "      Successfully uninstalled nvidia-cuda-nvrtc-cu12-12.5.82\n",
            "  Attempting uninstall: nvidia-cuda-cupti-cu12\n",
            "    Found existing installation: nvidia-cuda-cupti-cu12 12.5.82\n",
            "    Uninstalling nvidia-cuda-cupti-cu12-12.5.82:\n",
            "      Successfully uninstalled nvidia-cuda-cupti-cu12-12.5.82\n",
            "  Attempting uninstall: nvidia-cublas-cu12\n",
            "    Found existing installation: nvidia-cublas-cu12 12.5.3.2\n",
            "    Uninstalling nvidia-cublas-cu12-12.5.3.2:\n",
            "      Successfully uninstalled nvidia-cublas-cu12-12.5.3.2\n",
            "  Attempting uninstall: nvidia-cusparse-cu12\n",
            "    Found existing installation: nvidia-cusparse-cu12 12.5.1.3\n",
            "    Uninstalling nvidia-cusparse-cu12-12.5.1.3:\n",
            "      Successfully uninstalled nvidia-cusparse-cu12-12.5.1.3\n",
            "  Attempting uninstall: nvidia-cudnn-cu12\n",
            "    Found existing installation: nvidia-cudnn-cu12 9.3.0.75\n",
            "    Uninstalling nvidia-cudnn-cu12-9.3.0.75:\n",
            "      Successfully uninstalled nvidia-cudnn-cu12-9.3.0.75\n",
            "  Attempting uninstall: nvidia-cusolver-cu12\n",
            "    Found existing installation: nvidia-cusolver-cu12 11.6.3.83\n",
            "    Uninstalling nvidia-cusolver-cu12-11.6.3.83:\n",
            "      Successfully uninstalled nvidia-cusolver-cu12-11.6.3.83\n",
            "Successfully installed nvidia-cublas-cu12-12.4.5.8 nvidia-cuda-cupti-cu12-12.4.127 nvidia-cuda-nvrtc-cu12-12.4.127 nvidia-cuda-runtime-cu12-12.4.127 nvidia-cudnn-cu12-9.1.0.70 nvidia-cufft-cu12-11.2.1.3 nvidia-curand-cu12-10.3.5.147 nvidia-cusolver-cu12-11.6.1.9 nvidia-cusparse-cu12-12.3.1.170 nvidia-nvjitlink-cu12-12.4.127\n"
          ]
        }
      ],
      "source": [
        "pip install torch wandb pandas tqdm"
      ]
    },
    {
      "cell_type": "code",
      "source": [
        "import torch\n",
        "import torch.nn as nn\n",
        "from torch.utils.data import Dataset, DataLoader\n",
        "import random\n",
        "import wandb\n",
        "import editdistance\n",
        "import numpy as np\n",
        "\n",
        "device = 'cuda' if torch.cuda.is_available() else 'cpu'\n",
        "print(device)\n",
        "LANG = 'te'\n",
        "data_path = f'/content/drive/MyDrive/dakshina_dataset_v1.0/{LANG}/lexicons/'\n",
        "\n",
        "def read_data(filepath, max_len=40):\n",
        "    pairs = []\n",
        "    with open(filepath, encoding='utf8') as f:\n",
        "        for line in f:\n",
        "            parts = line.strip().split('\\t')\n",
        "            if len(parts) < 2:\n",
        "                continue\n",
        "            source, target = parts[0], parts[1]\n",
        "            if len(source) <= max_len and len(target) <= max_len:\n",
        "                pairs.append((source, target))\n",
        "    return pairs\n",
        "\n",
        "def make_vocab(sequences):\n",
        "    vocab = {'<pad>':0, '<sos>':1, '<eos>':2}\n",
        "    idx = 3\n",
        "    for seq in sequences:\n",
        "        for ch in seq:\n",
        "            if ch not in vocab:\n",
        "                vocab[ch] = idx\n",
        "                idx += 1\n",
        "    idx2char = {i:c for c,i in vocab.items()}\n",
        "    return vocab, idx2char\n",
        "\n",
        "def encode_word(word, vocab):\n",
        "    return [vocab['<sos>']] + [vocab[ch] for ch in word] + [vocab['<eos>']]\n",
        "\n",
        "def pad_seq(seq, max_len, pad_idx=0):\n",
        "    return seq + [pad_idx] * (max_len - len(seq))\n",
        "\n",
        "class TransliterationDataset(Dataset):\n",
        "    def __init__(self, pairs, source_vocab, target_vocab):\n",
        "        self.source_pad = source_vocab['<pad>']\n",
        "        self.target_pad = target_vocab['<pad>']\n",
        "        self.data = []\n",
        "        for source, target in pairs:\n",
        "            source_t = encode_word(source, source_vocab)\n",
        "            target_t = encode_word(target, target_vocab)\n",
        "            self.data.append((source_t, target_t))\n",
        "        self.source_max = max(len(x[0]) for x in self.data)\n",
        "        self.target_max = max(len(x[1]) for x in self.data)\n",
        "\n",
        "    def __len__(self): return len(self.data)\n",
        "\n",
        "    def __getitem__(self, idx):\n",
        "        source, target = self.data[idx]\n",
        "        source = pad_seq(source, self.source_max, self.source_pad)\n",
        "        target = pad_seq(target, self.target_max, self.target_pad)\n",
        "        return torch.tensor(source), torch.tensor(target)\n",
        "\n",
        "class translit_Encoder(nn.Module):\n",
        "    def __init__(self, input_dimensions, emb_dimensions, hid_dimensions, num_layers, dropout, cell='lstm'):\n",
        "        super().__init__()\n",
        "        self.embedding = nn.Embedding(input_dimensions, emb_dimensions)\n",
        "        rnn_cls = {'rnn': nn.RNN, 'gru': nn.GRU, 'lstm': nn.LSTM}[cell.lower()]\n",
        "        self.rnn = rnn_cls(emb_dimensions, hid_dimensions, num_layers, dropout=dropout if num_layers > 1 else 0, batch_first=True)\n",
        "        self.cell = cell.lower()\n",
        "\n",
        "    def forward(self, source):\n",
        "        embedded = self.embedding(source)\n",
        "        if self.cell == 'lstm':\n",
        "            outputs, (hidden, cell) = self.rnn(embedded)\n",
        "            return hidden, cell\n",
        "        else:\n",
        "            outputs, hidden = self.rnn(embedded)\n",
        "            return hidden, None\n",
        "\n",
        "class translit_Decoder(nn.Module):\n",
        "    def __init__(self, output_dimensions, emb_dimensions, hid_dimensions, num_layers, dropout, cell='lstm'):\n",
        "        super().__init__()\n",
        "        self.embedding = nn.Embedding(output_dimensions, emb_dimensions)\n",
        "        rnn_cls = {'rnn': nn.RNN, 'gru': nn.GRU, 'lstm': nn.LSTM}[cell.lower()]\n",
        "        self.rnn = rnn_cls(emb_dimensions, hid_dimensions, num_layers, dropout=dropout if num_layers > 1 else 0, batch_first=True)\n",
        "        self.fc_out = nn.Linear(hid_dimensions, output_dimensions)\n",
        "        self.cell = cell.lower()\n",
        "\n",
        "    def forward(self, input, hidden, cell=None):\n",
        "        input = input.unsqueeze(1)\n",
        "        embedded = self.embedding(input)\n",
        "        if self.cell == 'lstm':\n",
        "            output, (hidden, cell) = self.rnn(embedded, (hidden, cell))\n",
        "        else:\n",
        "            output, hidden = self.rnn(embedded, hidden)\n",
        "            cell = None\n",
        "        prediction = self.fc_out(output.squeeze(1))\n",
        "        return prediction, hidden, cell\n",
        "\n",
        "class translit_Seq2Seq(nn.Module):\n",
        "    def __init__(self, encoder, decoder, device):\n",
        "        super().__init__()\n",
        "        self.encoder = encoder\n",
        "        self.decoder = decoder\n",
        "        self.device = device\n",
        "\n",
        "    def forward(self, source, target, teacher_forcing_ratio=0.5):\n",
        "        batch_size = source.size(0)\n",
        "        target_len = target.size(1)\n",
        "        output_dimensions = self.decoder.fc_out.out_features\n",
        "\n",
        "        outputs = torch.zeros(batch_size, target_len, output_dimensions).to(self.device)\n",
        "        hidden, cell = self.encoder(source)\n",
        "        input = target[:, 0]\n",
        "\n",
        "        for t in range(1, target_len):\n",
        "            output, hidden, cell = self.decoder(input, hidden, cell)\n",
        "            outputs[:, t] = output\n",
        "            teacher_force = random.random() < teacher_forcing_ratio\n",
        "            top1 = output.argmax(1)\n",
        "            input = target[:, t] if teacher_force else top1\n",
        "        return outputs\n",
        "\n",
        "def strip_after_eos(seq, eos_idx):\n",
        "    if eos_idx in seq:\n",
        "        return seq[:seq.index(eos_idx) + 1]\n",
        "    return seq\n",
        "\n",
        "def calculate_word_accuracy(preds, targets, pad_idx=0, eos_idx=None):\n",
        "    correct = 0\n",
        "    total = 0\n",
        "    for pred, target in zip(preds, targets):\n",
        "        if eos_idx is not None:\n",
        "            pred = strip_after_eos(pred, eos_idx)\n",
        "            target = strip_after_eos(target, eos_idx)\n",
        "        pred = [p for p in pred if p != pad_idx]\n",
        "        target = [t for t in target if t != pad_idx]\n",
        "        if pred == target:\n",
        "            correct += 1\n",
        "        total += 1\n",
        "    return correct / total if total > 0 else 0\n",
        "\n",
        "def calculate_accuracy(preds, targets, pad_idx=0):\n",
        "    total = 0\n",
        "    correct = 0\n",
        "    for p, t in zip(preds, targets):\n",
        "        for pi, ti in zip(p, t):\n",
        "            if ti == pad_idx:\n",
        "                continue\n",
        "            if pi == ti:\n",
        "                correct += 1\n",
        "            total += 1\n",
        "    return correct / total if total > 0 else 0\n",
        "\n",
        "def calculate_cer(preds, targets, pad_idx=0):\n",
        "    cer, total = 0, 0\n",
        "    for pred, target in zip(preds, targets):\n",
        "        # Remove PAD tokens for evaluation.\n",
        "        pred = [p for p in pred if p != pad_idx]\n",
        "        target = [t for t in target if t != pad_idx]\n",
        "        cer += editdistance.eval(pred, target)\n",
        "        total += len(target)\n",
        "    return cer / total if total > 0 else 0\n",
        "\n",
        "def run(config=None):\n",
        "    with wandb.init(config=config):\n",
        "        cfg = wandb.config\n",
        "        cfg.hidden_dim = 2 * cfg.embed_dim if cfg.hidden_dim_config == 'double' else cfg.embed_dim\n",
        "        sweep_name = f\"{cfg.cell_type}_{cfg.embed_dim}e_{cfg.hidden_dim_config}h_{cfg.layers}l_\" \\\n",
        "             f\"{int(cfg.dropout*100)}d_{int(cfg.teacher_forcing*10)}tf_\" \\\n",
        "             f\"{str(cfg.lr).replace('.', '')}lr\"\n",
        "\n",
        "        wandb.run.name = sweep_name\n",
        "\n",
        "        max_len = 30\n",
        "\n",
        "        # Load data (ensure paths match your dataset—full dataset naming assumed)\n",
        "        train_pairs = read_data(data_path + f\"{LANG}.translit.sampled.train.tsv\", max_len=max_len)\n",
        "        val_pairs   = read_data(data_path + f\"{LANG}.translit.sampled.dev.tsv\",   max_len=max_len)\n",
        "        test_pairs  = read_data(data_path + f\"{LANG}.translit.sampled.test.tsv\",  max_len=max_len)\n",
        "\n",
        "        source_vocab, _ = make_vocab([x[0] for x in train_pairs])\n",
        "        target_vocab, _ = make_vocab([x[1] for x in train_pairs])\n",
        "\n",
        "        # (Add assertions to ensure special tokens are consistent)\n",
        "        assert source_vocab['<pad>'] == 0 and target_vocab['<pad>'] == 0, \"Pad token must be index 0 in both vocabs.\"\n",
        "\n",
        "        train_translit = TransliterationDataset(train_pairs, source_vocab, target_vocab)\n",
        "        val_translit   = TransliterationDataset(val_pairs,   source_vocab, target_vocab)\n",
        "        test_translit  = TransliterationDataset(test_pairs,  source_vocab, target_vocab)\n",
        "\n",
        "        # Use drop_last=True to ensure consistent batch sizes.\n",
        "        train_drop_last = DataLoader(train_translit, batch_size=cfg.batch_size, shuffle=True, drop_last=True)\n",
        "        val_drop_last   = DataLoader(val_translit,   batch_size=cfg.batch_size, drop_last=True)\n",
        "        test_drop_last  = DataLoader(test_translit,  batch_size=cfg.batch_size, drop_last=True)\n",
        "\n",
        "        encoder = translit_Encoder(len(source_vocab), cfg.embed_dim, cfg.hidden_dim, cfg.layers, cfg.dropout, cfg.cell_type).to(device)\n",
        "        decoder = translit_Decoder(len(target_vocab), cfg.embed_dim, cfg.hidden_dim, cfg.layers, cfg.dropout, cfg.cell_type).to(device)\n",
        "        model = translit_Seq2Seq(encoder, decoder, device).to(device)\n",
        "\n",
        "        optimizer = torch.optim.Adam(model.parameters(), lr=cfg.lr)\n",
        "        criterion = nn.CrossEntropyLoss(ignore_index=target_vocab['<pad>'])\n",
        "        scheduler = torch.optim.lr_scheduler.ReduceLROnPlateau(optimizer, 'min', patience=2, factor=0.5)\n",
        "\n",
        "        best_val_loss = float('inf')\n",
        "        patience = 10\n",
        "        wait = 0\n",
        "\n",
        "        for epoch in range(cfg.epochs):\n",
        "            model.train()\n",
        "            total_loss = 0\n",
        "            total_acc  = 0\n",
        "            total_char_acc = 0\n",
        "            for source, target in train_drop_last:\n",
        "                source, target = source.to(device), target.to(device)\n",
        "                optimizer.zero_grad()\n",
        "                output = model(source, target, cfg.teacher_forcing)\n",
        "                out_dimensions = output.shape[-1]\n",
        "                loss = criterion(output[:, 1:].reshape(-1, out_dimensions), target[:, 1:].reshape(-1))\n",
        "                eos_idx = target_vocab['<eos>']\n",
        "\n",
        "                raw_preds = output.argmax(2)[:, 1:].tolist()\n",
        "                raw_targets = target[:, 1:].tolist()\n",
        "                preds = [strip_after_eos(p, eos_idx) for p in raw_preds]\n",
        "                targets = [strip_after_eos(t, eos_idx) for t in raw_targets]\n",
        "                acc = calculate_word_accuracy(preds, targets, pad_idx=target_vocab['<pad>'])\n",
        "                char_acc = calculate_accuracy(preds, targets, pad_idx=target_vocab['<pad>'])\n",
        "                loss.backward()\n",
        "                torch.nn.utils.clip_grad_norm_(model.parameters(), max_norm=1.0)\n",
        "                optimizer.step()\n",
        "\n",
        "                total_loss += loss.item()\n",
        "                total_acc  += acc\n",
        "                total_char_acc += char_acc\n",
        "\n",
        "            avg_train_loss = total_loss / len(train_drop_last)\n",
        "            avg_train_acc  = total_acc / len(train_drop_last)\n",
        "            avg_train_char_acc = total_char_acc / len(train_drop_last)\n",
        "\n",
        "            model.eval()\n",
        "            val_loss = 0\n",
        "            val_acc  = 0\n",
        "            val_cer  = 0\n",
        "            total_char_acc = 0\n",
        "            with torch.no_grad():\n",
        "                for source, target in val_drop_last:\n",
        "                    source, target = source.to(device), target.to(device)\n",
        "                    output = model(source, target, teacher_forcing_ratio=0)\n",
        "                    out_dimensions = output.shape[-1]\n",
        "                    loss = criterion(output[:, 1:].reshape(-1, out_dimensions), target[:, 1:].reshape(-1))\n",
        "                    eos_idx = target_vocab['<eos>']\n",
        "\n",
        "                    raw_preds = output.argmax(2)[:, 1:].tolist()\n",
        "                    raw_targets = target[:, 1:].tolist()\n",
        "                    preds = [strip_after_eos(p, eos_idx) for p in raw_preds]\n",
        "                    targets = [strip_after_eos(t, eos_idx) for t in raw_targets]\n",
        "                    acc = calculate_word_accuracy(preds, targets, pad_idx=target_vocab['<pad>'])\n",
        "                    char_acc = calculate_accuracy(preds, targets, pad_idx=target_vocab['<pad>'])\n",
        "                    val_loss += loss.item()\n",
        "                    val_acc  += acc\n",
        "                    preds = output.argmax(2).tolist()\n",
        "                    targets = target.tolist()\n",
        "                    val_cer += calculate_cer(preds, targets, pad_idx=target_vocab['<pad>'])\n",
        "                    total_char_acc += char_acc\n",
        "\n",
        "            avg_val_loss = val_loss / len(val_drop_last)\n",
        "            avg_val_acc  = val_acc / len(val_drop_last)\n",
        "            avg_val_cer  = val_cer / len(val_drop_last)\n",
        "            avg_val_char_acc = total_char_acc / len(val_drop_last)\n",
        "\n",
        "            scheduler.step(avg_val_loss)\n",
        "\n",
        "            wandb.log({\n",
        "                'train_loss': avg_train_loss,\n",
        "                'train_accuracy': avg_train_acc,\n",
        "                'train_char_accuracy': avg_train_char_acc,\n",
        "                'val_loss': avg_val_loss,\n",
        "                'val_accuracy': avg_val_acc,\n",
        "                'val_cer': avg_val_cer,\n",
        "                'val_char_accuracy': avg_val_char_acc,\n",
        "                'epoch': epoch + 1\n",
        "            })\n",
        "            print(f\"Epoch {epoch+1} | Train Loss: {avg_train_loss:.3f} Acc: {avg_train_acc:.3f} | \"\n",
        "                  f\"Val Loss: {avg_val_loss:.3f} Acc: {avg_val_acc:.3f} CER: {avg_val_cer:.3f}\")\n",
        "\n",
        "            # Early Stopping Check\n",
        "            if avg_val_loss < best_val_loss:\n",
        "                best_val_loss = avg_val_loss\n",
        "                wait = 0\n",
        "                torch.save(model.state_dict(), 'best_model.pt')\n",
        "            else:\n",
        "                wait += 1\n",
        "                if wait >= patience:\n",
        "                    print(\"Early stopping triggered.\")\n",
        "                    break\n",
        "\n",
        "        # After training, load the best model and evaluate on the test set.\n",
        "        artifact = wandb.Artifact('best_model', type='model')\n",
        "        artifact.add_file('best_model.pt')\n",
        "        wandb.log_artifact(artifact)\n",
        "        model.load_state_dict(torch.load('best_model.pt'))\n",
        "        model.eval()\n",
        "        test_loss = 0\n",
        "        test_acc  = 0\n",
        "        test_cer  = 0\n",
        "        total_char_acc = 0\n",
        "        with torch.no_grad():\n",
        "            for source, target in test_drop_last:\n",
        "                source, target = source.to(device), target.to(device)\n",
        "                output = model(source, target, teacher_forcing_ratio=0)\n",
        "                out_dimensions = output.shape[-1]\n",
        "                loss = criterion(output[:, 1:].reshape(-1, out_dimensions), target[:, 1:].reshape(-1))\n",
        "                eos_idx = target_vocab['<eos>']\n",
        "\n",
        "                raw_preds = output.argmax(2)[:, 1:].tolist()\n",
        "                raw_targets = target[:, 1:].tolist()\n",
        "                preds = [strip_after_eos(p, eos_idx) for p in raw_preds]\n",
        "                targets = [strip_after_eos(t, eos_idx) for t in raw_targets]\n",
        "                acc = calculate_word_accuracy(preds, targets, pad_idx=target_vocab['<pad>'])\n",
        "                char_acc = calculate_accuracy(preds, targets, pad_idx=target_vocab['<pad>'])\n",
        "                test_loss += loss.item()\n",
        "                test_acc  += acc\n",
        "                preds = output.argmax(2).tolist()\n",
        "                targets = target.tolist()\n",
        "                test_cer += calculate_cer(preds, targets, pad_idx=target_vocab['<pad>'])\n",
        "                total_char_acc += char_acc\n",
        "        avg_test_loss = test_loss / len(test_drop_last)\n",
        "        avg_test_acc  = test_acc / len(test_drop_last)\n",
        "        avg_test_cer  = test_cer / len(test_drop_last)\n",
        "        avg_test_char_acc = total_char_acc / len(test_drop_last)\n",
        "        print(f\"Test Loss: {avg_test_loss:.3f} | Test Acc: {avg_test_acc:.3f} | Test CER: {avg_test_cer:.3f}, Test Char Acc: {avg_test_char_acc:.3f}\")\n",
        "\n",
        "sweep_config = {\n",
        "    'method': 'grid',\n",
        "    'parameters': {\n",
        "        'embed_dim': {'values': [256]},\n",
        "        'hidden_dim_config': {'values': ['double']},\n",
        "        'layers': {'values': [2]},\n",
        "        'dropout': {'values': [0.3]},\n",
        "        'lr': {'values': [0.001]},\n",
        "        'cell_type': {'values': ['gru','lstm']},\n",
        "        'teacher_forcing': {'values': [0.5]},\n",
        "        'batch_size': {'value': 64},\n",
        "        'epochs': {'value': 20}\n",
        "    }\n",
        "}"
      ],
      "metadata": {
        "id": "Sqry1mukh_mh",
        "colab": {
          "base_uri": "https://localhost:8080/"
        },
        "outputId": "539152ef-5760-40e9-ca05-603258060a54"
      },
      "execution_count": null,
      "outputs": [
        {
          "output_type": "stream",
          "name": "stdout",
          "text": [
            "cuda\n"
          ]
        }
      ]
    },
    {
      "cell_type": "code",
      "source": [
        "import wandb\n",
        "wandb.login()"
      ],
      "metadata": {
        "colab": {
          "base_uri": "https://localhost:8080/",
          "height": 207
        },
        "id": "iRKRjEuYpjmB",
        "outputId": "a3facd5f-4026-4d7f-82b9-43169c61c0a5"
      },
      "execution_count": null,
      "outputs": [
        {
          "output_type": "display_data",
          "data": {
            "text/plain": [
              "<IPython.core.display.Javascript object>"
            ],
            "application/javascript": [
              "\n",
              "        window._wandbApiKey = new Promise((resolve, reject) => {\n",
              "            function loadScript(url) {\n",
              "            return new Promise(function(resolve, reject) {\n",
              "                let newScript = document.createElement(\"script\");\n",
              "                newScript.onerror = reject;\n",
              "                newScript.onload = resolve;\n",
              "                document.body.appendChild(newScript);\n",
              "                newScript.src = url;\n",
              "            });\n",
              "            }\n",
              "            loadScript(\"https://cdn.jsdelivr.net/npm/postmate/build/postmate.min.js\").then(() => {\n",
              "            const iframe = document.createElement('iframe')\n",
              "            iframe.style.cssText = \"width:0;height:0;border:none\"\n",
              "            document.body.appendChild(iframe)\n",
              "            const handshake = new Postmate({\n",
              "                container: iframe,\n",
              "                url: 'https://wandb.ai/authorize'\n",
              "            });\n",
              "            const timeout = setTimeout(() => reject(\"Couldn't auto authenticate\"), 5000)\n",
              "            handshake.then(function(child) {\n",
              "                child.on('authorize', data => {\n",
              "                    clearTimeout(timeout)\n",
              "                    resolve(data)\n",
              "                });\n",
              "            });\n",
              "            })\n",
              "        });\n",
              "    "
            ]
          },
          "metadata": {}
        },
        {
          "output_type": "stream",
          "name": "stderr",
          "text": [
            "\u001b[34m\u001b[1mwandb\u001b[0m: Logging into wandb.ai. (Learn how to deploy a W&B server locally: https://wandb.me/wandb-server)\n",
            "\u001b[34m\u001b[1mwandb\u001b[0m: You can find your API key in your browser here: https://wandb.ai/authorize\n",
            "wandb: Paste an API key from your profile and hit enter:"
          ]
        },
        {
          "name": "stdout",
          "output_type": "stream",
          "text": [
            " ··········\n"
          ]
        },
        {
          "output_type": "stream",
          "name": "stderr",
          "text": [
            "\u001b[34m\u001b[1mwandb\u001b[0m: \u001b[33mWARNING\u001b[0m If you're specifying your api key in code, ensure this code is not shared publicly.\n",
            "\u001b[34m\u001b[1mwandb\u001b[0m: \u001b[33mWARNING\u001b[0m Consider setting the WANDB_API_KEY environment variable, or running `wandb login` from the command line.\n",
            "\u001b[34m\u001b[1mwandb\u001b[0m: No netrc file found, creating one.\n",
            "\u001b[34m\u001b[1mwandb\u001b[0m: Appending key for api.wandb.ai to your netrc file: /root/.netrc\n",
            "\u001b[34m\u001b[1mwandb\u001b[0m: Currently logged in as: \u001b[33msai-sakunthala\u001b[0m (\u001b[33msai-sakunthala-indian-institute-of-technology-madras\u001b[0m) to \u001b[32mhttps://api.wandb.ai\u001b[0m. Use \u001b[1m`wandb login --relogin`\u001b[0m to force relogin\n"
          ]
        },
        {
          "output_type": "execute_result",
          "data": {
            "text/plain": [
              "True"
            ]
          },
          "metadata": {},
          "execution_count": 3
        }
      ]
    },
    {
      "cell_type": "code",
      "source": [
        "try:\n",
        "    sweep_id = wandb.sweep(sweep_config, project=\"dakshina-seq2seq_2\")\n",
        "    wandb.agent(sweep_id, function=run, count=2)\n",
        "except:\n",
        "    wandb.finish()"
      ],
      "metadata": {
        "colab": {
          "base_uri": "https://localhost:8080/",
          "height": 1000
        },
        "id": "46M5hDzSFaIJ",
        "outputId": "d179f3a5-ad91-4784-c54e-710e0092beee"
      },
      "execution_count": null,
      "outputs": [
        {
          "output_type": "stream",
          "name": "stdout",
          "text": [
            "Create sweep with ID: 6cyfk5ca\n",
            "Sweep URL: https://wandb.ai/sai-sakunthala-indian-institute-of-technology-madras/dakshina-seq2seq_2/sweeps/6cyfk5ca\n"
          ]
        },
        {
          "output_type": "stream",
          "name": "stderr",
          "text": [
            "\u001b[34m\u001b[1mwandb\u001b[0m: Agent Starting Run: 2vgrjsm8 with config:\n",
            "\u001b[34m\u001b[1mwandb\u001b[0m: \tbatch_size: 64\n",
            "\u001b[34m\u001b[1mwandb\u001b[0m: \tcell_type: gru\n",
            "\u001b[34m\u001b[1mwandb\u001b[0m: \tdropout: 0.3\n",
            "\u001b[34m\u001b[1mwandb\u001b[0m: \tembed_dim: 256\n",
            "\u001b[34m\u001b[1mwandb\u001b[0m: \tepochs: 20\n",
            "\u001b[34m\u001b[1mwandb\u001b[0m: \thidden_dim_config: double\n",
            "\u001b[34m\u001b[1mwandb\u001b[0m: \tlayers: 2\n",
            "\u001b[34m\u001b[1mwandb\u001b[0m: \tlr: 0.001\n",
            "\u001b[34m\u001b[1mwandb\u001b[0m: \tteacher_forcing: 0.5\n"
          ]
        },
        {
          "output_type": "display_data",
          "data": {
            "text/plain": [
              "<IPython.core.display.HTML object>"
            ],
            "text/html": [
              "Tracking run with wandb version 0.19.11"
            ]
          },
          "metadata": {}
        },
        {
          "output_type": "display_data",
          "data": {
            "text/plain": [
              "<IPython.core.display.HTML object>"
            ],
            "text/html": [
              "Run data is saved locally in <code>/content/wandb/run-20250519_092505-2vgrjsm8</code>"
            ]
          },
          "metadata": {}
        },
        {
          "output_type": "display_data",
          "data": {
            "text/plain": [
              "<IPython.core.display.HTML object>"
            ],
            "text/html": [
              "Syncing run <strong><a href='https://wandb.ai/sai-sakunthala-indian-institute-of-technology-madras/dakshina-seq2seq_2/runs/2vgrjsm8' target=\"_blank\">curious-sweep-1</a></strong> to <a href='https://wandb.ai/sai-sakunthala-indian-institute-of-technology-madras/dakshina-seq2seq_2' target=\"_blank\">Weights & Biases</a> (<a href='https://wandb.me/developer-guide' target=\"_blank\">docs</a>)<br>Sweep page: <a href='https://wandb.ai/sai-sakunthala-indian-institute-of-technology-madras/dakshina-seq2seq_2/sweeps/6cyfk5ca' target=\"_blank\">https://wandb.ai/sai-sakunthala-indian-institute-of-technology-madras/dakshina-seq2seq_2/sweeps/6cyfk5ca</a>"
            ]
          },
          "metadata": {}
        },
        {
          "output_type": "display_data",
          "data": {
            "text/plain": [
              "<IPython.core.display.HTML object>"
            ],
            "text/html": [
              " View project at <a href='https://wandb.ai/sai-sakunthala-indian-institute-of-technology-madras/dakshina-seq2seq_2' target=\"_blank\">https://wandb.ai/sai-sakunthala-indian-institute-of-technology-madras/dakshina-seq2seq_2</a>"
            ]
          },
          "metadata": {}
        },
        {
          "output_type": "display_data",
          "data": {
            "text/plain": [
              "<IPython.core.display.HTML object>"
            ],
            "text/html": [
              " View sweep at <a href='https://wandb.ai/sai-sakunthala-indian-institute-of-technology-madras/dakshina-seq2seq_2/sweeps/6cyfk5ca' target=\"_blank\">https://wandb.ai/sai-sakunthala-indian-institute-of-technology-madras/dakshina-seq2seq_2/sweeps/6cyfk5ca</a>"
            ]
          },
          "metadata": {}
        },
        {
          "output_type": "display_data",
          "data": {
            "text/plain": [
              "<IPython.core.display.HTML object>"
            ],
            "text/html": [
              " View run at <a href='https://wandb.ai/sai-sakunthala-indian-institute-of-technology-madras/dakshina-seq2seq_2/runs/2vgrjsm8' target=\"_blank\">https://wandb.ai/sai-sakunthala-indian-institute-of-technology-madras/dakshina-seq2seq_2/runs/2vgrjsm8</a>"
            ]
          },
          "metadata": {}
        },
        {
          "output_type": "stream",
          "name": "stdout",
          "text": [
            "Epoch 1 | Train Loss: 1.077 Acc: 0.113 | Val Loss: 1.174 Acc: 0.233 CER: 1.336\n",
            "Epoch 2 | Train Loss: 0.612 Acc: 0.217 | Val Loss: 1.093 Acc: 0.270 CER: 1.305\n",
            "Epoch 3 | Train Loss: 0.555 Acc: 0.240 | Val Loss: 1.045 Acc: 0.270 CER: 1.299\n",
            "Epoch 4 | Train Loss: 0.526 Acc: 0.250 | Val Loss: 1.084 Acc: 0.275 CER: 1.297\n",
            "Epoch 5 | Train Loss: 0.510 Acc: 0.255 | Val Loss: 1.053 Acc: 0.287 CER: 1.290\n",
            "Epoch 6 | Train Loss: 0.507 Acc: 0.257 | Val Loss: 1.088 Acc: 0.287 CER: 1.301\n",
            "Epoch 7 | Train Loss: 0.446 Acc: 0.288 | Val Loss: 1.032 Acc: 0.301 CER: 1.284\n",
            "Epoch 8 | Train Loss: 0.421 Acc: 0.296 | Val Loss: 1.015 Acc: 0.310 CER: 1.281\n",
            "Epoch 9 | Train Loss: 0.411 Acc: 0.300 | Val Loss: 1.057 Acc: 0.314 CER: 1.285\n",
            "Epoch 10 | Train Loss: 0.404 Acc: 0.302 | Val Loss: 1.019 Acc: 0.317 CER: 1.279\n",
            "Epoch 11 | Train Loss: 0.402 Acc: 0.304 | Val Loss: 1.016 Acc: 0.313 CER: 1.277\n",
            "Epoch 12 | Train Loss: 0.370 Acc: 0.322 | Val Loss: 1.041 Acc: 0.318 CER: 1.275\n",
            "Epoch 13 | Train Loss: 0.364 Acc: 0.324 | Val Loss: 1.005 Acc: 0.319 CER: 1.278\n",
            "Epoch 14 | Train Loss: 0.356 Acc: 0.328 | Val Loss: 1.045 Acc: 0.314 CER: 1.279\n",
            "Epoch 15 | Train Loss: 0.359 Acc: 0.331 | Val Loss: 1.021 Acc: 0.317 CER: 1.278\n",
            "Epoch 16 | Train Loss: 0.351 Acc: 0.332 | Val Loss: 1.030 Acc: 0.316 CER: 1.278\n"
          ]
        },
        {
          "output_type": "stream",
          "name": "stderr",
          "text": [
            "Traceback (most recent call last):\n",
            "  File \"<ipython-input-5-52f442605f6d>\", line 228, in run\n",
            "    loss.backward()\n",
            "  File \"/usr/local/lib/python3.11/dist-packages/torch/_tensor.py\", line 626, in backward\n",
            "    torch.autograd.backward(\n",
            "  File \"/usr/local/lib/python3.11/dist-packages/torch/autograd/__init__.py\", line 347, in backward\n",
            "    _engine_run_backward(\n",
            "  File \"/usr/local/lib/python3.11/dist-packages/torch/autograd/graph.py\", line 823, in _engine_run_backward\n",
            "    return Variable._execution_engine.run_backward(  # Calls into the C++ engine to run the backward pass\n",
            "           ^^^^^^^^^^^^^^^^^^^^^^^^^^^^^^^^^^^^^^^^^^^^^^^^^^^^^^^^^^^^^^^^^^^^^^^^^^^^^^^^^^^^^^^^^^^^^^\n",
            "Exception\n"
          ]
        },
        {
          "output_type": "display_data",
          "data": {
            "text/plain": [
              "<IPython.core.display.HTML object>"
            ],
            "text/html": []
          },
          "metadata": {}
        },
        {
          "output_type": "display_data",
          "data": {
            "text/plain": [
              "<IPython.core.display.HTML object>"
            ],
            "text/html": [
              "<br>    <style><br>        .wandb-row {<br>            display: flex;<br>            flex-direction: row;<br>            flex-wrap: wrap;<br>            justify-content: flex-start;<br>            width: 100%;<br>        }<br>        .wandb-col {<br>            display: flex;<br>            flex-direction: column;<br>            flex-basis: 100%;<br>            flex: 1;<br>            padding: 10px;<br>        }<br>    </style><br><div class=\"wandb-row\"><div class=\"wandb-col\"><h3>Run history:</h3><br/><table class=\"wandb\"><tr><td>epoch</td><td>▁▁▂▂▃▃▄▄▅▅▆▆▇▇██</td></tr><tr><td>train_accuracy</td><td>▁▄▅▅▆▆▇▇▇▇▇█████</td></tr><tr><td>train_char_accuracy</td><td>▁▆▆▆▇▇▇▇▇███████</td></tr><tr><td>train_loss</td><td>█▄▃▃▃▃▂▂▂▂▁▁▁▁▁▁</td></tr><tr><td>val_accuracy</td><td>▁▄▄▄▅▅▆▇████████</td></tr><tr><td>val_cer</td><td>█▄▄▄▃▄▂▂▂▂▁▁▁▂▁▁</td></tr><tr><td>val_char_accuracy</td><td>▁▄▅▅▆▆▇▇▇▇███▇██</td></tr><tr><td>val_loss</td><td>█▅▃▄▃▄▂▁▃▂▁▂▁▃▂▂</td></tr></table><br/></div><div class=\"wandb-col\"><h3>Run summary:</h3><br/><table class=\"wandb\"><tr><td>epoch</td><td>16</td></tr><tr><td>train_accuracy</td><td>0.33224</td></tr><tr><td>train_char_accuracy</td><td>0.86395</td></tr><tr><td>train_loss</td><td>0.35054</td></tr><tr><td>val_accuracy</td><td>0.31641</td></tr><tr><td>val_cer</td><td>1.27792</td></tr><tr><td>val_char_accuracy</td><td>0.69548</td></tr><tr><td>val_loss</td><td>1.03025</td></tr></table><br/></div></div>"
            ]
          },
          "metadata": {}
        },
        {
          "output_type": "display_data",
          "data": {
            "text/plain": [
              "<IPython.core.display.HTML object>"
            ],
            "text/html": [
              " View run <strong style=\"color:#cdcd00\">gru_256e_doubleh_2l_30d_5tf_0001lr</strong> at: <a href='https://wandb.ai/sai-sakunthala-indian-institute-of-technology-madras/dakshina-seq2seq_2/runs/2vgrjsm8' target=\"_blank\">https://wandb.ai/sai-sakunthala-indian-institute-of-technology-madras/dakshina-seq2seq_2/runs/2vgrjsm8</a><br> View project at: <a href='https://wandb.ai/sai-sakunthala-indian-institute-of-technology-madras/dakshina-seq2seq_2' target=\"_blank\">https://wandb.ai/sai-sakunthala-indian-institute-of-technology-madras/dakshina-seq2seq_2</a><br>Synced 5 W&B file(s), 0 media file(s), 0 artifact file(s) and 0 other file(s)"
            ]
          },
          "metadata": {}
        },
        {
          "output_type": "display_data",
          "data": {
            "text/plain": [
              "<IPython.core.display.HTML object>"
            ],
            "text/html": [
              "Find logs at: <code>./wandb/run-20250519_092505-2vgrjsm8/logs</code>"
            ]
          },
          "metadata": {}
        },
        {
          "output_type": "stream",
          "name": "stderr",
          "text": [
            "\u001b[34m\u001b[1mwandb\u001b[0m: Agent Starting Run: z1mdfa4x with config:\n",
            "\u001b[34m\u001b[1mwandb\u001b[0m: \tbatch_size: 64\n",
            "\u001b[34m\u001b[1mwandb\u001b[0m: \tcell_type: lstm\n",
            "\u001b[34m\u001b[1mwandb\u001b[0m: \tdropout: 0.3\n",
            "\u001b[34m\u001b[1mwandb\u001b[0m: \tembed_dim: 256\n",
            "\u001b[34m\u001b[1mwandb\u001b[0m: \tepochs: 20\n",
            "\u001b[34m\u001b[1mwandb\u001b[0m: \thidden_dim_config: double\n",
            "\u001b[34m\u001b[1mwandb\u001b[0m: \tlayers: 2\n",
            "\u001b[34m\u001b[1mwandb\u001b[0m: \tlr: 0.001\n",
            "\u001b[34m\u001b[1mwandb\u001b[0m: \tteacher_forcing: 0.5\n"
          ]
        },
        {
          "output_type": "display_data",
          "data": {
            "text/plain": [
              "<IPython.core.display.HTML object>"
            ],
            "text/html": [
              "Tracking run with wandb version 0.19.11"
            ]
          },
          "metadata": {}
        },
        {
          "output_type": "display_data",
          "data": {
            "text/plain": [
              "<IPython.core.display.HTML object>"
            ],
            "text/html": [
              "Run data is saved locally in <code>/content/wandb/run-20250519_093842-z1mdfa4x</code>"
            ]
          },
          "metadata": {}
        },
        {
          "output_type": "display_data",
          "data": {
            "text/plain": [
              "<IPython.core.display.HTML object>"
            ],
            "text/html": [
              "Syncing run <strong><a href='https://wandb.ai/sai-sakunthala-indian-institute-of-technology-madras/dakshina-seq2seq_2/runs/z1mdfa4x' target=\"_blank\">jolly-sweep-2</a></strong> to <a href='https://wandb.ai/sai-sakunthala-indian-institute-of-technology-madras/dakshina-seq2seq_2' target=\"_blank\">Weights & Biases</a> (<a href='https://wandb.me/developer-guide' target=\"_blank\">docs</a>)<br>Sweep page: <a href='https://wandb.ai/sai-sakunthala-indian-institute-of-technology-madras/dakshina-seq2seq_2/sweeps/6cyfk5ca' target=\"_blank\">https://wandb.ai/sai-sakunthala-indian-institute-of-technology-madras/dakshina-seq2seq_2/sweeps/6cyfk5ca</a>"
            ]
          },
          "metadata": {}
        },
        {
          "output_type": "display_data",
          "data": {
            "text/plain": [
              "<IPython.core.display.HTML object>"
            ],
            "text/html": [
              " View project at <a href='https://wandb.ai/sai-sakunthala-indian-institute-of-technology-madras/dakshina-seq2seq_2' target=\"_blank\">https://wandb.ai/sai-sakunthala-indian-institute-of-technology-madras/dakshina-seq2seq_2</a>"
            ]
          },
          "metadata": {}
        },
        {
          "output_type": "display_data",
          "data": {
            "text/plain": [
              "<IPython.core.display.HTML object>"
            ],
            "text/html": [
              " View sweep at <a href='https://wandb.ai/sai-sakunthala-indian-institute-of-technology-madras/dakshina-seq2seq_2/sweeps/6cyfk5ca' target=\"_blank\">https://wandb.ai/sai-sakunthala-indian-institute-of-technology-madras/dakshina-seq2seq_2/sweeps/6cyfk5ca</a>"
            ]
          },
          "metadata": {}
        },
        {
          "output_type": "display_data",
          "data": {
            "text/plain": [
              "<IPython.core.display.HTML object>"
            ],
            "text/html": [
              " View run at <a href='https://wandb.ai/sai-sakunthala-indian-institute-of-technology-madras/dakshina-seq2seq_2/runs/z1mdfa4x' target=\"_blank\">https://wandb.ai/sai-sakunthala-indian-institute-of-technology-madras/dakshina-seq2seq_2/runs/z1mdfa4x</a>"
            ]
          },
          "metadata": {}
        },
        {
          "output_type": "stream",
          "name": "stdout",
          "text": [
            "Epoch 1 | Train Loss: 1.516 Acc: 0.057 | Val Loss: 1.100 Acc: 0.204 CER: 1.345\n",
            "Epoch 2 | Train Loss: 0.633 Acc: 0.213 | Val Loss: 1.061 Acc: 0.260 CER: 1.298\n",
            "Epoch 3 | Train Loss: 0.540 Acc: 0.250 | Val Loss: 1.002 Acc: 0.291 CER: 1.281\n",
            "Epoch 4 | Train Loss: 0.490 Acc: 0.267 | Val Loss: 1.057 Acc: 0.306 CER: 1.287\n",
            "Epoch 5 | Train Loss: 0.461 Acc: 0.279 | Val Loss: 1.025 Acc: 0.303 CER: 1.281\n",
            "Epoch 6 | Train Loss: 0.440 Acc: 0.287 | Val Loss: 0.983 Acc: 0.305 CER: 1.281\n",
            "Epoch 7 | Train Loss: 0.424 Acc: 0.290 | Val Loss: 1.035 Acc: 0.308 CER: 1.278\n",
            "Epoch 8 | Train Loss: 0.411 Acc: 0.298 | Val Loss: 0.996 Acc: 0.315 CER: 1.276\n",
            "Epoch 9 | Train Loss: 0.405 Acc: 0.301 | Val Loss: 0.971 Acc: 0.320 CER: 1.276\n",
            "Epoch 10 | Train Loss: 0.402 Acc: 0.302 | Val Loss: 1.028 Acc: 0.318 CER: 1.278\n",
            "Epoch 11 | Train Loss: 0.385 Acc: 0.308 | Val Loss: 1.003 Acc: 0.319 CER: 1.275\n",
            "Epoch 12 | Train Loss: 0.380 Acc: 0.308 | Val Loss: 1.061 Acc: 0.319 CER: 1.281\n"
          ]
        },
        {
          "output_type": "stream",
          "name": "stderr",
          "text": [
            "\u001b[34m\u001b[1mwandb\u001b[0m: Ctrl + C detected. Stopping sweep.\n"
          ]
        }
      ]
    },
    {
      "cell_type": "code",
      "source": [
        "wandb.finish()"
      ],
      "metadata": {
        "colab": {
          "base_uri": "https://localhost:8080/",
          "height": 608
        },
        "id": "8rXNMhEIkbIf",
        "outputId": "c8eaf865-bc71-4b04-d9d1-2dad595524e1"
      },
      "execution_count": null,
      "outputs": [
        {
          "output_type": "display_data",
          "data": {
            "text/plain": [
              "<IPython.core.display.HTML object>"
            ],
            "text/html": []
          },
          "metadata": {}
        },
        {
          "output_type": "display_data",
          "data": {
            "text/plain": [
              "<IPython.core.display.HTML object>"
            ],
            "text/html": [
              "<br>    <style><br>        .wandb-row {<br>            display: flex;<br>            flex-direction: row;<br>            flex-wrap: wrap;<br>            justify-content: flex-start;<br>            width: 100%;<br>        }<br>        .wandb-col {<br>            display: flex;<br>            flex-direction: column;<br>            flex-basis: 100%;<br>            flex: 1;<br>            padding: 10px;<br>        }<br>    </style><br><div class=\"wandb-row\"><div class=\"wandb-col\"><h3>Run history:</h3><br/><table class=\"wandb\"><tr><td>epoch</td><td>▁▃▁▅▆▃█</td></tr><tr><td>train_accuracy</td><td>▃▇▁▇█▆█</td></tr><tr><td>train_char_accuracy</td><td>▄▇▁██▇█</td></tr><tr><td>train_loss</td><td>▅▂█▁▁▂▁</td></tr><tr><td>val_accuracy</td><td>▅▇▁▇▇▇█</td></tr><tr><td>val_cer</td><td>▄▂█▃▁▂▁</td></tr><tr><td>val_char_accuracy</td><td>▄▆▁▆▇▆█</td></tr><tr><td>val_loss</td><td>█▆▇▂▄▅▁</td></tr></table><br/></div><div class=\"wandb-col\"><h3>Run summary:</h3><br/><table class=\"wandb\"><tr><td>epoch</td><td>5</td></tr><tr><td>train_accuracy</td><td>0.26275</td></tr><tr><td>train_char_accuracy</td><td>0.82228</td></tr><tr><td>train_loss</td><td>0.49486</td></tr><tr><td>val_accuracy</td><td>0.28569</td></tr><tr><td>val_cer</td><td>1.28673</td></tr><tr><td>val_char_accuracy</td><td>0.67983</td></tr><tr><td>val_loss</td><td>1.00877</td></tr></table><br/></div></div>"
            ]
          },
          "metadata": {}
        },
        {
          "output_type": "display_data",
          "data": {
            "text/plain": [
              "<IPython.core.display.HTML object>"
            ],
            "text/html": [
              " View run <strong style=\"color:#cdcd00\">lstm_256e_doubleh_2l_30d_5tf_0001lr</strong> at: <a href='https://wandb.ai/sai-sakunthala-indian-institute-of-technology-madras/dakshina-seq2seq_2/runs/tnjff4kk' target=\"_blank\">https://wandb.ai/sai-sakunthala-indian-institute-of-technology-madras/dakshina-seq2seq_2/runs/tnjff4kk</a><br> View project at: <a href='https://wandb.ai/sai-sakunthala-indian-institute-of-technology-madras/dakshina-seq2seq_2' target=\"_blank\">https://wandb.ai/sai-sakunthala-indian-institute-of-technology-madras/dakshina-seq2seq_2</a><br>Synced 5 W&B file(s), 0 media file(s), 0 artifact file(s) and 0 other file(s)"
            ]
          },
          "metadata": {}
        },
        {
          "output_type": "display_data",
          "data": {
            "text/plain": [
              "<IPython.core.display.HTML object>"
            ],
            "text/html": [
              "Find logs at: <code>./wandb/run-20250519_080349-tnjff4kk/logs</code>"
            ]
          },
          "metadata": {}
        }
      ]
    }
  ]
}